{
 "cells": [
  {
   "cell_type": "code",
   "execution_count": null,
   "id": "255cf95a-3b42-4513-a1c7-7cef0ee0848c",
   "metadata": {},
   "outputs": [],
   "source": [
    "try:\n",
    "    import google.colab\n",
    "    IN_COLAB = True\n",
    "except:\n",
    "    IN_COLAB = False"
   ]
  },
  {
   "cell_type": "code",
   "execution_count": null,
   "id": "c5fde345-3f1a-459b-9eaa-3a66fb11bf3c",
   "metadata": {},
   "outputs": [],
   "source": [
    "%%capture\n",
    "if IN_COLAB:\n",
    "    \n",
    "    #Remove not needed python versions to free space\n",
    "    !rm -rf \"/usr/local/lib/python2.7\"\n",
    "    !rm -rf \"/usr/lib/python2.7\"\n",
    "\n",
    "    # Clone the repo.\n",
    "    # git clone \"\"\n",
    "\n",
    "    #Get any necessary accessory files\n",
    "    # !wget \"https://raw.githubusercontent.com/microsoft/onnxruntime/main/onnxruntime/python/tools/transformers/models/gpt2/convert_to_onnx.py\" \n",
    "\n",
    "    # Change the working directory to the repo root.\n",
    "    # %cd\n",
    "\n",
    "    # Add the repo root to the Python path.\n",
    "    # import sys, os\n",
    "    # sys.path.append(os.getcwd())\n",
    "    \n",
    "    #Install packages not native to colab\n",
    "    !pip install python-dotenv\n",
    "    !pip install transformers\n",
    "    !pip install wandb --upgrade\n",
    "    # !pip install pandas-profiling --upgrade\n",
    "\n",
    "    #Mount GDrive to access .env file\n",
    "    from google.colab import drive\n",
    "    drive.mount('/content/gdrive')\n",
    "\n",
    "    #Load env file\n",
    "    #NOTE: gdrive wont allow you to mount dotfiles\n",
    "    from dotenv import load_dotenv\n",
    "    load_dotenv(\"./gdrive/MyDrive/my_env_file\")"
   ]
  }
 ],
 "metadata": {
  "environment": {
   "kernel": "python3",
   "name": "common-cu110.m97",
   "type": "gcloud",
   "uri": "gcr.io/deeplearning-platform-release/base-cu110:m97"
  },
  "kernelspec": {
   "display_name": "Python 3",
   "language": "python",
   "name": "python3"
  },
  "language_info": {
   "codemirror_mode": {
    "name": "ipython",
    "version": 3
   },
   "file_extension": ".py",
   "mimetype": "text/x-python",
   "name": "python",
   "nbconvert_exporter": "python",
   "pygments_lexer": "ipython3",
   "version": "3.7.12"
  }
 },
 "nbformat": 4,
 "nbformat_minor": 5
}
