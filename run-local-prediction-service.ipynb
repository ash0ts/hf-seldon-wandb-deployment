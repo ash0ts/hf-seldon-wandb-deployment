{
 "cells": [
  {
   "cell_type": "markdown",
   "metadata": {
    "id": "wQdVGahMHAZL"
   },
   "source": [
    "# Run local predictions\n",
    "\n",
    "Taken ref from: https://www.kaggle.com/code/nulldata/fine-tuning-gpt-2-to-generate-netlfix-descriptions/notebook\n",
    "\n",
    "Which took ref from: https://medium.com/geekculture/fine-tune-eleutherai-gpt-neo-to-generate-netflix-movie-descriptions-in-only-47-lines-of-code-40c9b4c32475"
   ]
  },
  {
   "cell_type": "markdown",
   "metadata": {
    "id": "pf0f415jHBBJ"
   },
   "source": [
    "## Setup"
   ]
  },
  {
   "cell_type": "code",
   "execution_count": 1,
   "metadata": {
    "executionInfo": {
     "elapsed": 15,
     "status": "ok",
     "timestamp": 1663319097184,
     "user": {
      "displayName": "Anish Shah",
      "userId": "05913492621931233323"
     },
     "user_tz": -120
    },
    "id": "R9TdYzhlzMwb"
   },
   "outputs": [],
   "source": [
    "try:\n",
    "    import google.colab\n",
    "    IN_COLAB = True\n",
    "except:\n",
    "    IN_COLAB = False"
   ]
  },
  {
   "cell_type": "code",
   "execution_count": 2,
   "metadata": {
    "executionInfo": {
     "elapsed": 98939,
     "status": "ok",
     "timestamp": 1663319196111,
     "user": {
      "displayName": "Anish Shah",
      "userId": "05913492621931233323"
     },
     "user_tz": -120
    },
    "id": "-erHYjhc9jic"
   },
   "outputs": [],
   "source": [
    "%%capture\n",
    "if IN_COLAB:\n",
    "    \n",
    "    #Remove not needed python versions to free space\n",
    "    !rm -rf \"/usr/local/lib/python2.7\"\n",
    "    !rm -rf \"/usr/lib/python2.7\"\n",
    "\n",
    "    # Clone the repo.\n",
    "    # !git clone \"\"\n",
    "\n",
    "    # Change the working directory to the repo root.\n",
    "    # %cd\n",
    "\n",
    "    # Add the repo root to the Python path.\n",
    "    # import sys, os\n",
    "    # sys.path.append(os.getcwd())\n",
    "    \n",
    "    #Install packages not native to colab\n",
    "    # !pip install python-dotenv\n",
    "    !pip install python-dotenv\n",
    "    !pip install transformers\n",
    "    !pip install transformers[onnx]\n",
    "    !pip install optimum --upgrade\n",
    "    !pip install optimum[onnxruntime] --upgrade\n",
    "    !pip install datasets\n",
    "    !pip install wandb --upgrade\n",
    "    !pip install fastapi pyngrok nest_asyncio uvicorn httpx\n",
    "    # !pip install pandas-profiling --upgrade\n",
    "\n",
    "    #Mount GDrive to access .env file\n",
    "    from google.colab import drive\n",
    "    drive.mount('/content/gdrive')\n",
    "\n",
    "    #Load env file\n",
    "    #NOTE: gdrive wont allow you to mount dotfiles\n",
    "    from dotenv import load_dotenv\n",
    "    load_dotenv(\"./gdrive/MyDrive/my_env_file\")"
   ]
  },
  {
   "cell_type": "code",
   "execution_count": 3,
   "metadata": {
    "colab": {
     "base_uri": "https://localhost:8080/"
    },
    "executionInfo": {
     "elapsed": 2858,
     "status": "ok",
     "timestamp": 1663319198948,
     "user": {
      "displayName": "Anish Shah",
      "userId": "05913492621931233323"
     },
     "user_tz": -120
    },
    "id": "SPzdMC0K-SB6",
    "outputId": "c0288268-accf-4e90-a000-da94e919e7a2"
   },
   "outputs": [
    {
     "name": "stderr",
     "output_type": "stream",
     "text": [
      "ERROR:wandb.jupyter:Failed to detect the name of this notebook, you can set it manually with the WANDB_NOTEBOOK_NAME environment variable to enable code saving.\n",
      "\u001b[34m\u001b[1mwandb\u001b[0m: Currently logged in as: \u001b[33ma-sh0ts\u001b[0m. Use \u001b[1m`wandb login --relogin`\u001b[0m to force relogin\n"
     ]
    },
    {
     "data": {
      "text/plain": [
       "True"
      ]
     },
     "execution_count": 3,
     "metadata": {},
     "output_type": "execute_result"
    }
   ],
   "source": [
    "import wandb\n",
    "wandb.login()"
   ]
  },
  {
   "cell_type": "code",
   "execution_count": 4,
   "metadata": {
    "executionInfo": {
     "elapsed": 22,
     "status": "ok",
     "timestamp": 1663319198949,
     "user": {
      "displayName": "Anish Shah",
      "userId": "05913492621931233323"
     },
     "user_tz": -120
    },
    "id": "F_W-VlYmV93W"
   },
   "outputs": [],
   "source": [
    "_model_conf = {\n",
    "    \n",
    "}"
   ]
  },
  {
   "cell_type": "code",
   "execution_count": 5,
   "metadata": {
    "executionInfo": {
     "elapsed": 20,
     "status": "ok",
     "timestamp": 1663319198949,
     "user": {
      "displayName": "Anish Shah",
      "userId": "05913492621931233323"
     },
     "user_tz": -120
    },
    "id": "tMps6BIUVvn8"
   },
   "outputs": [],
   "source": [
    "project_name = \"gpt2-netflix\"\n",
    "run_name = \"infer-generative-netflix\"\n",
    "run_type = \"inference\""
   ]
  },
  {
   "cell_type": "code",
   "execution_count": 6,
   "metadata": {
    "colab": {
     "base_uri": "https://localhost:8080/",
     "height": 65
    },
    "executionInfo": {
     "elapsed": 2059,
     "status": "ok",
     "timestamp": 1663319200988,
     "user": {
      "displayName": "Anish Shah",
      "userId": "05913492621931233323"
     },
     "user_tz": -120
    },
    "id": "NH_Lhe1FV8Z2",
    "outputId": "4f518698-3182-48bf-fab0-00b541cf90fc"
   },
   "outputs": [
    {
     "data": {
      "text/html": [
       "Tracking run with wandb version 0.13.3"
      ],
      "text/plain": [
       "<IPython.core.display.HTML object>"
      ]
     },
     "metadata": {},
     "output_type": "display_data"
    },
    {
     "data": {
      "text/html": [
       "Run data is saved locally in <code>/content/wandb/run-20220916_090638-2enqr06h</code>"
      ],
      "text/plain": [
       "<IPython.core.display.HTML object>"
      ]
     },
     "metadata": {},
     "output_type": "display_data"
    },
    {
     "data": {
      "text/html": [
       "Syncing run <strong><a href=\"https://wandb.ai/a-sh0ts/gpt2-netflix/runs/2enqr06h\" target=\"_blank\">infer-generative-netflix</a></strong> to <a href=\"https://wandb.ai/a-sh0ts/gpt2-netflix\" target=\"_blank\">Weights & Biases</a> (<a href=\"https://wandb.me/run\" target=\"_blank\">docs</a>)<br/>"
      ],
      "text/plain": [
       "<IPython.core.display.HTML object>"
      ]
     },
     "metadata": {},
     "output_type": "display_data"
    }
   ],
   "source": [
    "run = wandb.init(\n",
    "        project=project_name, job_type=run_type, name=run_name, config = _model_conf)"
   ]
  },
  {
   "cell_type": "code",
   "execution_count": 7,
   "metadata": {
    "colab": {
     "base_uri": "https://localhost:8080/"
    },
    "executionInfo": {
     "elapsed": 14284,
     "status": "ok",
     "timestamp": 1663319215257,
     "user": {
      "displayName": "Anish Shah",
      "userId": "05913492621931233323"
     },
     "user_tz": -120
    },
    "id": "Pii3DXMZXrSz",
    "outputId": "3f9c6476-6cfb-4810-c94f-9e9b1238beb3"
   },
   "outputs": [
    {
     "name": "stdout",
     "output_type": "stream",
     "text": [
      "Updated property [core/project].\n"
     ]
    }
   ],
   "source": [
    "from google.colab import auth\n",
    "auth.authenticate_user()\n",
    "\n",
    "# https://cloud.google.com/resource-manager/docs/creating-managing-projects\n",
    "project_id = 'wandb-growth'\n",
    "!gcloud config set project {project_id}"
   ]
  },
  {
   "cell_type": "code",
   "execution_count": 8,
   "metadata": {
    "colab": {
     "base_uri": "https://localhost:8080/"
    },
    "executionInfo": {
     "elapsed": 10210,
     "status": "ok",
     "timestamp": 1663319225456,
     "user": {
      "displayName": "Anish Shah",
      "userId": "05913492621931233323"
     },
     "user_tz": -120
    },
    "id": "rlcWa5fVV-_T",
    "outputId": "72527505-9b6f-47ea-b088-8b2183702faa"
   },
   "outputs": [
    {
     "name": "stderr",
     "output_type": "stream",
     "text": [
      "\u001b[34m\u001b[1mwandb\u001b[0m: Downloading large artifact generative-netflix:latest, 540.41MB. 2 files... Done. 0:0:8.3\n"
     ]
    }
   ],
   "source": [
    "model_art_path = run.use_artifact(\"generative-netflix:latest\").download()\n",
    "tokenizer_path = run.use_artifact(\"gpt2-netflix-tokenizer:latest\").download()"
   ]
  },
  {
   "cell_type": "code",
   "execution_count": 9,
   "metadata": {
    "executionInfo": {
     "elapsed": 916,
     "status": "ok",
     "timestamp": 1663319226353,
     "user": {
      "displayName": "Anish Shah",
      "userId": "05913492621931233323"
     },
     "user_tz": -120
    },
    "id": "t4_GhwqaX-fb"
   },
   "outputs": [],
   "source": [
    "import os\n",
    "model_path = os.path.join(model_art_path, \"model.onnx\")\n",
    "config_path = os.path.join(model_art_path, \"ort_config.json\")"
   ]
  },
  {
   "cell_type": "code",
   "execution_count": 11,
   "metadata": {
    "executionInfo": {
     "elapsed": 1147,
     "status": "ok",
     "timestamp": 1663319228316,
     "user": {
      "displayName": "Anish Shah",
      "userId": "05913492621931233323"
     },
     "user_tz": -120
    },
    "id": "Gp4xPAD-bJzD"
   },
   "outputs": [],
   "source": [
    "#BUG: name of config must be config.json for now just loading into dict and manually entering the config needed\n",
    "import json\n",
    "with open(config_path, 'r') as j:\n",
    "    config = json.loads(j.read())"
   ]
  },
  {
   "cell_type": "code",
   "execution_count": 12,
   "metadata": {
    "colab": {
     "base_uri": "https://localhost:8080/",
     "height": 118,
     "referenced_widgets": [
      "3981e4cd21c84072a6441d827bedc605",
      "a08175aa22ef43c390b14ffada5df539",
      "1ca192ba5b1645a9a2996a93f409e500",
      "816803ea666e4fc29aaae9d0508699e6",
      "7ae1e986b67141188fe49e99eabfff93",
      "54f9293b96ef4b779992380e1e985f7c",
      "6b59b309ae8a4282b6755ca9a9dc69ef",
      "e268e06577c84ba4a300f22bfe40dfe3",
      "917e8099ea3940e48f13ceab4e887c6b",
      "c4df7c616b7e4f3b85c86d36291d8415",
      "54ded1824c7e4342b407768a9a1ab17b"
     ]
    },
    "executionInfo": {
     "elapsed": 8798,
     "status": "ok",
     "timestamp": 1663319237103,
     "user": {
      "displayName": "Anish Shah",
      "userId": "05913492621931233323"
     },
     "user_tz": -120
    },
    "id": "ZZk36QXwVQBY",
    "outputId": "3c983b87-2dfd-4dfe-b196-188a870823f5"
   },
   "outputs": [
    {
     "name": "stderr",
     "output_type": "stream",
     "text": [
      "The cache for model files in Transformers v4.22.0 has been updated. Migrating your old cache. This is a one-time only operation. You can interrupt this and resume the migration later on by calling `transformers.utils.move_cache()`.\n"
     ]
    },
    {
     "name": "stdout",
     "output_type": "stream",
     "text": [
      "Moving 0 files to the new cache system\n"
     ]
    },
    {
     "data": {
      "application/vnd.jupyter.widget-view+json": {
       "model_id": "3981e4cd21c84072a6441d827bedc605",
       "version_major": 2,
       "version_minor": 0
      },
      "text/plain": [
       "0it [00:00, ?it/s]"
      ]
     },
     "metadata": {},
     "output_type": "display_data"
    },
    {
     "name": "stderr",
     "output_type": "stream",
     "text": [
      "WARNING:optimum.modeling_base:config.json NOT FOUND in HuggingFace Hub\n"
     ]
    }
   ],
   "source": [
    "from transformers import AutoTokenizer\n",
    "from optimum.onnxruntime import ORTModelForCausalLM\n",
    "from optimum.pipelines import pipeline\n",
    "\n",
    "\n",
    "model = ORTModelForCausalLM.from_pretrained(model_art_path, file_name=\"model_quantized.onnx\", config=config)\n",
    "tokenizer = AutoTokenizer.from_pretrained(tokenizer_path)\n",
    "\n",
    "inference_pipeline = pipeline(\"text-generation\", model=model, tokenizer=tokenizer)"
   ]
  },
  {
   "cell_type": "code",
   "execution_count": 13,
   "metadata": {
    "executionInfo": {
     "elapsed": 1241,
     "status": "ok",
     "timestamp": 1663319238326,
     "user": {
      "displayName": "Anish Shah",
      "userId": "05913492621931233323"
     },
     "user_tz": -120
    },
    "id": "7zzT3Libdk7i"
   },
   "outputs": [],
   "source": [
    "query = \"Weights and Biases is about\""
   ]
  },
  {
   "cell_type": "code",
   "execution_count": 14,
   "metadata": {
    "colab": {
     "base_uri": "https://localhost:8080/"
    },
    "executionInfo": {
     "elapsed": 2565,
     "status": "ok",
     "timestamp": 1663319240879,
     "user": {
      "displayName": "Anish Shah",
      "userId": "05913492621931233323"
     },
     "user_tz": -120
    },
    "id": "Hd4ou76bWWDu",
    "outputId": "162bdf4f-a469-4339-dafd-5b8c46b59f4e"
   },
   "outputs": [
    {
     "name": "stderr",
     "output_type": "stream",
     "text": [
      "/usr/local/lib/python3.7/dist-packages/transformers/generation_utils.py:1232: UserWarning: Neither `max_length` nor `max_new_tokens` has been set, `max_length` will default to 20 (`self.config.max_length`). Controlling `max_length` via the config is deprecated and `max_length` will be removed from the config in v5 of Transformers -- we recommend using `max_new_tokens` to control the maximum length of the generation.\n",
      "  UserWarning,\n"
     ]
    }
   ],
   "source": [
    "result = inference_pipeline(query)"
   ]
  },
  {
   "cell_type": "code",
   "execution_count": 15,
   "metadata": {
    "colab": {
     "base_uri": "https://localhost:8080/"
    },
    "executionInfo": {
     "elapsed": 897,
     "status": "ok",
     "timestamp": 1663319241755,
     "user": {
      "displayName": "Anish Shah",
      "userId": "05913492621931233323"
     },
     "user_tz": -120
    },
    "id": "UGuPtySVdPiI",
    "outputId": "c54c168b-d38d-459b-a0ca-6b2a456e854a"
   },
   "outputs": [
    {
     "data": {
      "text/plain": [
       "[{'generated_text': 'Weights and Biases is about the people who make the world a better place, and the people'}]"
      ]
     },
     "execution_count": 15,
     "metadata": {},
     "output_type": "execute_result"
    }
   ],
   "source": [
    "result"
   ]
  },
  {
   "cell_type": "code",
   "execution_count": 16,
   "metadata": {
    "executionInfo": {
     "elapsed": 1056,
     "status": "ok",
     "timestamp": 1663319242790,
     "user": {
      "displayName": "Anish Shah",
      "userId": "05913492621931233323"
     },
     "user_tz": -120
    },
    "id": "MNLkXiX2deub"
   },
   "outputs": [],
   "source": [
    "run.log({\n",
    "    \"query\": query,\n",
    "    \"result\": result\n",
    "})"
   ]
  },
  {
   "cell_type": "code",
   "execution_count": 17,
   "metadata": {
    "colab": {
     "base_uri": "https://localhost:8080/"
    },
    "executionInfo": {
     "elapsed": 8203,
     "status": "ok",
     "timestamp": 1663319250982,
     "user": {
      "displayName": "Anish Shah",
      "userId": "05913492621931233323"
     },
     "user_tz": -120
    },
    "id": "im8F9xXldQ9f",
    "outputId": "afa5e48a-28ba-4192-fe1a-7c6bb064ecf5"
   },
   "outputs": [
    {
     "data": {
      "text/html": [
       "Waiting for W&B process to finish... <strong style=\"color:green\">(success).</strong>"
      ],
      "text/plain": [
       "<IPython.core.display.HTML object>"
      ]
     },
     "metadata": {},
     "output_type": "display_data"
    },
    {
     "data": {
      "application/vnd.jupyter.widget-view+json": {
       "model_id": "4c5eeca5359341948d2123b7342a15b2",
       "version_major": 2,
       "version_minor": 0
      },
      "text/plain": [
       "VBox(children=(Label(value='0.169 MB of 0.169 MB uploaded (0.000 MB deduped)\\r'), FloatProgress(value=1.0, max…"
      ]
     },
     "metadata": {},
     "output_type": "display_data"
    },
    {
     "data": {
      "text/html": [
       "<style>\n",
       "    table.wandb td:nth-child(1) { padding: 0 10px; text-align: left ; width: auto;} td:nth-child(2) {text-align: left ; width: 100%}\n",
       "    .wandb-row { display: flex; flex-direction: row; flex-wrap: wrap; justify-content: flex-start; width: 100% }\n",
       "    .wandb-col { display: flex; flex-direction: column; flex-basis: 100%; flex: 1; padding: 10px; }\n",
       "    </style>\n",
       "<div class=\"wandb-row\"><div class=\"wandb-col\"><h3>Run summary:</h3><br/><table class=\"wandb\"><tr><td>query</td><td>Weights and Biases i...</td></tr></table><br/></div></div>"
      ],
      "text/plain": [
       "<IPython.core.display.HTML object>"
      ]
     },
     "metadata": {},
     "output_type": "display_data"
    },
    {
     "data": {
      "text/html": [
       "Synced <strong style=\"color:#cdcd00\">infer-generative-netflix</strong>: <a href=\"https://wandb.ai/a-sh0ts/gpt2-netflix/runs/2enqr06h\" target=\"_blank\">https://wandb.ai/a-sh0ts/gpt2-netflix/runs/2enqr06h</a><br/>Synced 5 W&B file(s), 0 media file(s), 11 artifact file(s) and 1 other file(s)"
      ],
      "text/plain": [
       "<IPython.core.display.HTML object>"
      ]
     },
     "metadata": {},
     "output_type": "display_data"
    },
    {
     "data": {
      "text/html": [
       "Find logs at: <code>./wandb/run-20220916_090638-2enqr06h/logs</code>"
      ],
      "text/plain": [
       "<IPython.core.display.HTML object>"
      ]
     },
     "metadata": {},
     "output_type": "display_data"
    }
   ],
   "source": [
    "run.finish()"
   ]
  },
  {
   "cell_type": "markdown",
   "metadata": {
    "id": "_owR-WiQe-qq"
   },
   "source": [
    "Let's make a web service!"
   ]
  },
  {
   "cell_type": "code",
   "execution_count": 18,
   "metadata": {
    "colab": {
     "base_uri": "https://localhost:8080/"
    },
    "executionInfo": {
     "elapsed": 12,
     "status": "ok",
     "timestamp": 1663319250982,
     "user": {
      "displayName": "Anish Shah",
      "userId": "05913492621931233323"
     },
     "user_tz": -120
    },
    "id": "yB6ok0JCfDlC",
    "outputId": "d7e715a6-e9fd-4de2-8cb7-59e3011b5117"
   },
   "outputs": [
    {
     "name": "stdout",
     "output_type": "stream",
     "text": [
      "Writing models.py\n"
     ]
    }
   ],
   "source": [
    "%%writefile models.py\n",
    "from pydantic import BaseModel\n",
    "\n",
    "class Input(BaseModel):\n",
    "    QUERY: str"
   ]
  },
  {
   "cell_type": "code",
   "execution_count": 19,
   "metadata": {
    "executionInfo": {
     "elapsed": 370,
     "status": "ok",
     "timestamp": 1663319251346,
     "user": {
      "displayName": "Anish Shah",
      "userId": "05913492621931233323"
     },
     "user_tz": -120
    },
    "id": "NeRmZv92eeIo"
   },
   "outputs": [],
   "source": [
    "from models import Input\n",
    "\n",
    "from concurrent.futures import ProcessPoolExecutor\n",
    "\n",
    "import nest_asyncio\n",
    "import uvicorn\n",
    "from fastapi import FastAPI\n",
    "from pyngrok import ngrok\n",
    "\n",
    "app = FastAPI()\n",
    "exc = ProcessPoolExecutor(max_workers=1)  # To handle pred-time logs out of process\n",
    "\n",
    "# Here is how to load the model in a startup event\n",
    "# @app.on_event(\"startup\")\n",
    "# def load_model():\n",
    "#     global model\n",
    "\n",
    "#     prod_model_path = get_prod_model_from_wandb(dataset_name, group_id)\n",
    "#     model_path = Path(prod_model_path)\n",
    "#     if model_path:\n",
    "#         print(model_path)\n",
    "#         model = load_model(\"./artifacts/credit_model_artifacts:v1/model\")\n",
    "#         # model = load_model(model_path.replace(\".pkl\", \"\"))\n",
    "#     else:\n",
    "#         print(model_path)\n",
    "\n",
    "@app.get(\"/\")\n",
    "def read_root():\n",
    "    return {\"hello\": \"world\"}\n",
    "\n",
    "@app.post(\"/api\", tags=[\"prediction\"])\n",
    "async def get_predictions(input_dict: Input):\n",
    "    try:\n",
    "        data = input_dict.dict()\n",
    "        query = data[\"QUERY\"]\n",
    "        result = inference_pipeline(query)\n",
    "        return {\"result\": result}\n",
    "    except Exception as e:\n",
    "        print(e.message)\n",
    "        print(e.args)\n",
    "        print(\"Something went wrong!\")\n",
    "        return {\"result\": \"error\"}"
   ]
  },
  {
   "cell_type": "code",
   "execution_count": 23,
   "metadata": {
    "colab": {
     "base_uri": "https://localhost:8080/"
    },
    "executionInfo": {
     "elapsed": 617,
     "status": "ok",
     "timestamp": 1663319276509,
     "user": {
      "displayName": "Anish Shah",
      "userId": "05913492621931233323"
     },
     "user_tz": -120
    },
    "id": "HWcYG2gRhuWF",
    "outputId": "40f0f82d-f2bb-4a17-9452-7c7002835fb7"
   },
   "outputs": [
    {
     "name": "stdout",
     "output_type": "stream",
     "text": [
      "Authtoken saved to configuration file: /root/.ngrok2/ngrok.yml\n"
     ]
    }
   ],
   "source": [
    "!ngrok authtoken $NGROK_AUTH"
   ]
  },
  {
   "cell_type": "code",
   "execution_count": 24,
   "metadata": {
    "colab": {
     "base_uri": "https://localhost:8080/"
    },
    "executionInfo": {
     "elapsed": 395,
     "status": "ok",
     "timestamp": 1663319276900,
     "user": {
      "displayName": "Anish Shah",
      "userId": "05913492621931233323"
     },
     "user_tz": -120
    },
    "id": "6LQAhkP7heyy",
    "outputId": "2c9bd3ba-c958-42ab-babc-d3790d3a3831"
   },
   "outputs": [
    {
     "data": {
      "text/plain": [
       "<NgrokTunnel: \"http://c5f9-34-82-231-49.ngrok.io\" -> \"http://localhost:8000\">"
      ]
     },
     "execution_count": 24,
     "metadata": {},
     "output_type": "execute_result"
    }
   ],
   "source": [
    "tunnel = ngrok.connect(8000)\n",
    "tunnel"
   ]
  },
  {
   "cell_type": "code",
   "execution_count": null,
   "metadata": {
    "colab": {
     "base_uri": "https://localhost:8080/"
    },
    "id": "7jFfr5dHhfLP",
    "outputId": "3f8f101e-ebfd-4500-8be4-d088a975eb5a"
   },
   "outputs": [
    {
     "name": "stderr",
     "output_type": "stream",
     "text": [
      "INFO:     Started server process [69]\n",
      "INFO:uvicorn.error:Started server process [69]\n",
      "INFO:     Waiting for application startup.\n",
      "INFO:uvicorn.error:Waiting for application startup.\n",
      "INFO:     Application startup complete.\n",
      "INFO:uvicorn.error:Application startup complete.\n",
      "INFO:     Uvicorn running on http://127.0.0.1:8000 (Press CTRL+C to quit)\n",
      "INFO:uvicorn.error:Uvicorn running on http://127.0.0.1:8000 (Press CTRL+C to quit)\n"
     ]
    },
    {
     "name": "stdout",
     "output_type": "stream",
     "text": [
      "INFO:     88.30.27.250:0 - \"GET / HTTP/1.1\" 200 OK\n",
      "INFO:     88.30.27.250:0 - \"GET /favicon.ico HTTP/1.1\" 404 Not Found\n",
      "INFO:     88.30.27.250:0 - \"GET / HTTP/1.1\" 200 OK\n",
      "INFO:     88.30.27.250:0 - \"GET /docs HTTP/1.1\" 200 OK\n",
      "INFO:     88.30.27.250:0 - \"GET /openapi.json HTTP/1.1\" 200 OK\n",
      "INFO:     88.30.27.250:0 - \"POST /api HTTP/1.1\" 200 OK\n",
      "INFO:     88.30.27.250:0 - \"POST /api HTTP/1.1\" 200 OK\n",
      "INFO:     88.30.27.250:0 - \"POST /api HTTP/1.1\" 200 OK\n",
      "INFO:     88.30.27.250:0 - \"POST /api HTTP/1.1\" 200 OK\n",
      "INFO:     88.30.27.250:0 - \"POST /api HTTP/1.1\" 200 OK\n",
      "INFO:     88.30.27.250:0 - \"POST /api HTTP/1.1\" 200 OK\n",
      "INFO:     88.30.27.250:0 - \"POST /api HTTP/1.1\" 200 OK\n",
      "INFO:     88.30.27.250:0 - \"POST /api HTTP/1.1\" 200 OK\n",
      "INFO:     88.30.27.250:0 - \"POST /api HTTP/1.1\" 200 OK\n",
      "INFO:     88.30.27.250:0 - \"POST /api HTTP/1.1\" 200 OK\n",
      "INFO:     88.30.27.250:0 - \"GET /docs HTTP/1.1\" 200 OK\n",
      "INFO:     88.30.27.250:0 - \"GET /openapi.json HTTP/1.1\" 200 OK\n",
      "INFO:     88.30.27.250:0 - \"POST /api HTTP/1.1\" 200 OK\n",
      "INFO:     88.30.27.250:0 - \"POST /api HTTP/1.1\" 200 OK\n",
      "INFO:     88.30.27.250:0 - \"POST /api HTTP/1.1\" 200 OK\n",
      "INFO:     88.30.27.250:0 - \"POST /api HTTP/1.1\" 200 OK\n",
      "INFO:     88.30.27.250:0 - \"POST /api HTTP/1.1\" 200 OK\n",
      "INFO:     88.30.27.250:0 - \"POST /api HTTP/1.1\" 200 OK\n"
     ]
    }
   ],
   "source": [
    "nest_asyncio.apply()\n",
    "uvicorn.run(app, port=8000)"
   ]
  },
  {
   "cell_type": "code",
   "execution_count": 22,
   "metadata": {
    "executionInfo": {
     "elapsed": 19,
     "status": "ok",
     "timestamp": 1663319270647,
     "user": {
      "displayName": "Anish Shah",
      "userId": "05913492621931233323"
     },
     "user_tz": -120
    },
    "id": "PxobgH9xhlPn"
   },
   "outputs": [],
   "source": []
  }
 ],
 "metadata": {
  "accelerator": "GPU",
  "colab": {
   "authorship_tag": "ABX9TyPihOvfSr7UnC9XEJJwRF+Q",
   "collapsed_sections": [],
   "provenance": [
    {
     "file_id": "16KjgUO87IJn1n63UPeTGIc_BxFVDO4bV",
     "timestamp": 1663158311701
    },
    {
     "file_id": "1d8u-8Xxr7EexpbMijOzexDVquac1OVjE",
     "timestamp": 1663148723985
    }
   ]
  },
  "environment": {
   "kernel": "python3",
   "name": "common-cu110.m97",
   "type": "gcloud",
   "uri": "gcr.io/deeplearning-platform-release/base-cu110:m97"
  },
  "gpuClass": "standard",
  "kernelspec": {
   "display_name": "Python 3",
   "language": "python",
   "name": "python3"
  },
  "language_info": {
   "codemirror_mode": {
    "name": "ipython",
    "version": 3
   },
   "file_extension": ".py",
   "mimetype": "text/x-python",
   "name": "python",
   "nbconvert_exporter": "python",
   "pygments_lexer": "ipython3",
   "version": "3.7.12"
  },
  "widgets": {
   "application/vnd.jupyter.widget-state+json": {
    "1ca192ba5b1645a9a2996a93f409e500": {
     "model_module": "@jupyter-widgets/controls",
     "model_module_version": "1.5.0",
     "model_name": "FloatProgressModel",
     "state": {
      "_dom_classes": [],
      "_model_module": "@jupyter-widgets/controls",
      "_model_module_version": "1.5.0",
      "_model_name": "FloatProgressModel",
      "_view_count": null,
      "_view_module": "@jupyter-widgets/controls",
      "_view_module_version": "1.5.0",
      "_view_name": "ProgressView",
      "bar_style": "success",
      "description": "",
      "description_tooltip": null,
      "layout": "IPY_MODEL_e268e06577c84ba4a300f22bfe40dfe3",
      "max": 1,
      "min": 0,
      "orientation": "horizontal",
      "style": "IPY_MODEL_917e8099ea3940e48f13ceab4e887c6b",
      "value": 0
     }
    },
    "3981e4cd21c84072a6441d827bedc605": {
     "model_module": "@jupyter-widgets/controls",
     "model_module_version": "1.5.0",
     "model_name": "HBoxModel",
     "state": {
      "_dom_classes": [],
      "_model_module": "@jupyter-widgets/controls",
      "_model_module_version": "1.5.0",
      "_model_name": "HBoxModel",
      "_view_count": null,
      "_view_module": "@jupyter-widgets/controls",
      "_view_module_version": "1.5.0",
      "_view_name": "HBoxView",
      "box_style": "",
      "children": [
       "IPY_MODEL_a08175aa22ef43c390b14ffada5df539",
       "IPY_MODEL_1ca192ba5b1645a9a2996a93f409e500",
       "IPY_MODEL_816803ea666e4fc29aaae9d0508699e6"
      ],
      "layout": "IPY_MODEL_7ae1e986b67141188fe49e99eabfff93"
     }
    },
    "54ded1824c7e4342b407768a9a1ab17b": {
     "model_module": "@jupyter-widgets/controls",
     "model_module_version": "1.5.0",
     "model_name": "DescriptionStyleModel",
     "state": {
      "_model_module": "@jupyter-widgets/controls",
      "_model_module_version": "1.5.0",
      "_model_name": "DescriptionStyleModel",
      "_view_count": null,
      "_view_module": "@jupyter-widgets/base",
      "_view_module_version": "1.2.0",
      "_view_name": "StyleView",
      "description_width": ""
     }
    },
    "54f9293b96ef4b779992380e1e985f7c": {
     "model_module": "@jupyter-widgets/base",
     "model_module_version": "1.2.0",
     "model_name": "LayoutModel",
     "state": {
      "_model_module": "@jupyter-widgets/base",
      "_model_module_version": "1.2.0",
      "_model_name": "LayoutModel",
      "_view_count": null,
      "_view_module": "@jupyter-widgets/base",
      "_view_module_version": "1.2.0",
      "_view_name": "LayoutView",
      "align_content": null,
      "align_items": null,
      "align_self": null,
      "border": null,
      "bottom": null,
      "display": null,
      "flex": null,
      "flex_flow": null,
      "grid_area": null,
      "grid_auto_columns": null,
      "grid_auto_flow": null,
      "grid_auto_rows": null,
      "grid_column": null,
      "grid_gap": null,
      "grid_row": null,
      "grid_template_areas": null,
      "grid_template_columns": null,
      "grid_template_rows": null,
      "height": null,
      "justify_content": null,
      "justify_items": null,
      "left": null,
      "margin": null,
      "max_height": null,
      "max_width": null,
      "min_height": null,
      "min_width": null,
      "object_fit": null,
      "object_position": null,
      "order": null,
      "overflow": null,
      "overflow_x": null,
      "overflow_y": null,
      "padding": null,
      "right": null,
      "top": null,
      "visibility": null,
      "width": null
     }
    },
    "6b59b309ae8a4282b6755ca9a9dc69ef": {
     "model_module": "@jupyter-widgets/controls",
     "model_module_version": "1.5.0",
     "model_name": "DescriptionStyleModel",
     "state": {
      "_model_module": "@jupyter-widgets/controls",
      "_model_module_version": "1.5.0",
      "_model_name": "DescriptionStyleModel",
      "_view_count": null,
      "_view_module": "@jupyter-widgets/base",
      "_view_module_version": "1.2.0",
      "_view_name": "StyleView",
      "description_width": ""
     }
    },
    "7ae1e986b67141188fe49e99eabfff93": {
     "model_module": "@jupyter-widgets/base",
     "model_module_version": "1.2.0",
     "model_name": "LayoutModel",
     "state": {
      "_model_module": "@jupyter-widgets/base",
      "_model_module_version": "1.2.0",
      "_model_name": "LayoutModel",
      "_view_count": null,
      "_view_module": "@jupyter-widgets/base",
      "_view_module_version": "1.2.0",
      "_view_name": "LayoutView",
      "align_content": null,
      "align_items": null,
      "align_self": null,
      "border": null,
      "bottom": null,
      "display": null,
      "flex": null,
      "flex_flow": null,
      "grid_area": null,
      "grid_auto_columns": null,
      "grid_auto_flow": null,
      "grid_auto_rows": null,
      "grid_column": null,
      "grid_gap": null,
      "grid_row": null,
      "grid_template_areas": null,
      "grid_template_columns": null,
      "grid_template_rows": null,
      "height": null,
      "justify_content": null,
      "justify_items": null,
      "left": null,
      "margin": null,
      "max_height": null,
      "max_width": null,
      "min_height": null,
      "min_width": null,
      "object_fit": null,
      "object_position": null,
      "order": null,
      "overflow": null,
      "overflow_x": null,
      "overflow_y": null,
      "padding": null,
      "right": null,
      "top": null,
      "visibility": null,
      "width": null
     }
    },
    "816803ea666e4fc29aaae9d0508699e6": {
     "model_module": "@jupyter-widgets/controls",
     "model_module_version": "1.5.0",
     "model_name": "HTMLModel",
     "state": {
      "_dom_classes": [],
      "_model_module": "@jupyter-widgets/controls",
      "_model_module_version": "1.5.0",
      "_model_name": "HTMLModel",
      "_view_count": null,
      "_view_module": "@jupyter-widgets/controls",
      "_view_module_version": "1.5.0",
      "_view_name": "HTMLView",
      "description": "",
      "description_tooltip": null,
      "layout": "IPY_MODEL_c4df7c616b7e4f3b85c86d36291d8415",
      "placeholder": "​",
      "style": "IPY_MODEL_54ded1824c7e4342b407768a9a1ab17b",
      "value": " 0/0 [00:00&lt;?, ?it/s]"
     }
    },
    "917e8099ea3940e48f13ceab4e887c6b": {
     "model_module": "@jupyter-widgets/controls",
     "model_module_version": "1.5.0",
     "model_name": "ProgressStyleModel",
     "state": {
      "_model_module": "@jupyter-widgets/controls",
      "_model_module_version": "1.5.0",
      "_model_name": "ProgressStyleModel",
      "_view_count": null,
      "_view_module": "@jupyter-widgets/base",
      "_view_module_version": "1.2.0",
      "_view_name": "StyleView",
      "bar_color": null,
      "description_width": ""
     }
    },
    "a08175aa22ef43c390b14ffada5df539": {
     "model_module": "@jupyter-widgets/controls",
     "model_module_version": "1.5.0",
     "model_name": "HTMLModel",
     "state": {
      "_dom_classes": [],
      "_model_module": "@jupyter-widgets/controls",
      "_model_module_version": "1.5.0",
      "_model_name": "HTMLModel",
      "_view_count": null,
      "_view_module": "@jupyter-widgets/controls",
      "_view_module_version": "1.5.0",
      "_view_name": "HTMLView",
      "description": "",
      "description_tooltip": null,
      "layout": "IPY_MODEL_54f9293b96ef4b779992380e1e985f7c",
      "placeholder": "​",
      "style": "IPY_MODEL_6b59b309ae8a4282b6755ca9a9dc69ef",
      "value": ""
     }
    },
    "c4df7c616b7e4f3b85c86d36291d8415": {
     "model_module": "@jupyter-widgets/base",
     "model_module_version": "1.2.0",
     "model_name": "LayoutModel",
     "state": {
      "_model_module": "@jupyter-widgets/base",
      "_model_module_version": "1.2.0",
      "_model_name": "LayoutModel",
      "_view_count": null,
      "_view_module": "@jupyter-widgets/base",
      "_view_module_version": "1.2.0",
      "_view_name": "LayoutView",
      "align_content": null,
      "align_items": null,
      "align_self": null,
      "border": null,
      "bottom": null,
      "display": null,
      "flex": null,
      "flex_flow": null,
      "grid_area": null,
      "grid_auto_columns": null,
      "grid_auto_flow": null,
      "grid_auto_rows": null,
      "grid_column": null,
      "grid_gap": null,
      "grid_row": null,
      "grid_template_areas": null,
      "grid_template_columns": null,
      "grid_template_rows": null,
      "height": null,
      "justify_content": null,
      "justify_items": null,
      "left": null,
      "margin": null,
      "max_height": null,
      "max_width": null,
      "min_height": null,
      "min_width": null,
      "object_fit": null,
      "object_position": null,
      "order": null,
      "overflow": null,
      "overflow_x": null,
      "overflow_y": null,
      "padding": null,
      "right": null,
      "top": null,
      "visibility": null,
      "width": null
     }
    },
    "e268e06577c84ba4a300f22bfe40dfe3": {
     "model_module": "@jupyter-widgets/base",
     "model_module_version": "1.2.0",
     "model_name": "LayoutModel",
     "state": {
      "_model_module": "@jupyter-widgets/base",
      "_model_module_version": "1.2.0",
      "_model_name": "LayoutModel",
      "_view_count": null,
      "_view_module": "@jupyter-widgets/base",
      "_view_module_version": "1.2.0",
      "_view_name": "LayoutView",
      "align_content": null,
      "align_items": null,
      "align_self": null,
      "border": null,
      "bottom": null,
      "display": null,
      "flex": null,
      "flex_flow": null,
      "grid_area": null,
      "grid_auto_columns": null,
      "grid_auto_flow": null,
      "grid_auto_rows": null,
      "grid_column": null,
      "grid_gap": null,
      "grid_row": null,
      "grid_template_areas": null,
      "grid_template_columns": null,
      "grid_template_rows": null,
      "height": null,
      "justify_content": null,
      "justify_items": null,
      "left": null,
      "margin": null,
      "max_height": null,
      "max_width": null,
      "min_height": null,
      "min_width": null,
      "object_fit": null,
      "object_position": null,
      "order": null,
      "overflow": null,
      "overflow_x": null,
      "overflow_y": null,
      "padding": null,
      "right": null,
      "top": null,
      "visibility": null,
      "width": "20px"
     }
    }
   }
  }
 },
 "nbformat": 4,
 "nbformat_minor": 4
}
