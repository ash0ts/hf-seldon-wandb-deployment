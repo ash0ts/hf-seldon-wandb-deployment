{
 "cells": [
  {
   "cell_type": "markdown",
   "metadata": {
    "id": "wQdVGahMHAZL"
   },
   "source": [
    "# Serialize and Quantize GPT2\n",
    "Taken ref from: https://www.kaggle.com/code/nulldata/fine-tuning-gpt-2-to-generate-netlfix-descriptions/notebook\n",
    "\n",
    "Which took ref from: https://medium.com/geekculture/fine-tune-eleutherai-gpt-neo-to-generate-netflix-movie-descriptions-in-only-47-lines-of-code-40c9b4c32475"
   ]
  },
  {
   "cell_type": "markdown",
   "metadata": {
    "id": "pf0f415jHBBJ"
   },
   "source": [
    "## Setup"
   ]
  },
  {
   "cell_type": "code",
   "execution_count": 1,
   "metadata": {
    "executionInfo": {
     "elapsed": 6,
     "status": "ok",
     "timestamp": 1663292599495,
     "user": {
      "displayName": "Anish Shah",
      "userId": "05913492621931233323"
     },
     "user_tz": -120
    },
    "id": "R9TdYzhlzMwb"
   },
   "outputs": [],
   "source": [
    "try:\n",
    "    import google.colab\n",
    "    IN_COLAB = True\n",
    "except:\n",
    "    IN_COLAB = False"
   ]
  },
  {
   "cell_type": "code",
   "execution_count": 2,
   "metadata": {
    "executionInfo": {
     "elapsed": 80809,
     "status": "ok",
     "timestamp": 1663292680299,
     "user": {
      "displayName": "Anish Shah",
      "userId": "05913492621931233323"
     },
     "user_tz": -120
    },
    "id": "-erHYjhc9jic"
   },
   "outputs": [],
   "source": [
    "%%capture\n",
    "if IN_COLAB:\n",
    "    \n",
    "    #Remove not needed python versions to free space\n",
    "    !rm -rf \"/usr/local/lib/python2.7\"\n",
    "    !rm -rf \"/usr/lib/python2.7\"\n",
    "\n",
    "    # Clone the repo.\n",
    "    # git clone \"\"\n",
    "\n",
    "    #Get any necessary accessory files\n",
    "    # !wget \"https://raw.githubusercontent.com/microsoft/onnxruntime/main/onnxruntime/python/tools/transformers/models/gpt2/convert_to_onnx.py\" \n",
    "\n",
    "    # Change the working directory to the repo root.\n",
    "    # %cd\n",
    "\n",
    "    # Add the repo root to the Python path.\n",
    "    # import sys, os\n",
    "    # sys.path.append(os.getcwd())\n",
    "    \n",
    "    #Install packages not native to colab\n",
    "    !pip install python-dotenv\n",
    "    !pip install transformers\n",
    "    !pip install transformers[onnx]\n",
    "    !pip install optimum --upgrade\n",
    "    !pip install optimum[onnxruntime] --upgrade\n",
    "    !pip install datasets\n",
    "    !pip install wandb --upgrade\n",
    "    # !pip install pandas-profiling --upgrade\n",
    "\n",
    "    #Mount GDrive to access .env file\n",
    "    from google.colab import drive\n",
    "    drive.mount('/content/gdrive')\n",
    "\n",
    "    #Load env file\n",
    "    #NOTE: gdrive wont allow you to mount dotfiles\n",
    "    from dotenv import load_dotenv\n",
    "    load_dotenv(\"./gdrive/MyDrive/my_env_file\")"
   ]
  },
  {
   "cell_type": "code",
   "execution_count": 3,
   "metadata": {
    "colab": {
     "base_uri": "https://localhost:8080/"
    },
    "executionInfo": {
     "elapsed": 2406,
     "status": "ok",
     "timestamp": 1663292682683,
     "user": {
      "displayName": "Anish Shah",
      "userId": "05913492621931233323"
     },
     "user_tz": -120
    },
    "id": "SPzdMC0K-SB6",
    "outputId": "a40b39e9-460c-4593-e022-8ff176889943"
   },
   "outputs": [
    {
     "name": "stderr",
     "output_type": "stream",
     "text": [
      "ERROR:wandb.jupyter:Failed to detect the name of this notebook, you can set it manually with the WANDB_NOTEBOOK_NAME environment variable to enable code saving.\n",
      "\u001b[34m\u001b[1mwandb\u001b[0m: Currently logged in as: \u001b[33ma-sh0ts\u001b[0m. Use \u001b[1m`wandb login --relogin`\u001b[0m to force relogin\n"
     ]
    },
    {
     "data": {
      "text/plain": [
       "True"
      ]
     },
     "execution_count": 3,
     "metadata": {},
     "output_type": "execute_result"
    }
   ],
   "source": [
    "import wandb\n",
    "wandb.login()"
   ]
  },
  {
   "cell_type": "code",
   "execution_count": 4,
   "metadata": {
    "executionInfo": {
     "elapsed": 27,
     "status": "ok",
     "timestamp": 1663292682684,
     "user": {
      "displayName": "Anish Shah",
      "userId": "05913492621931233323"
     },
     "user_tz": -120
    },
    "id": "3pb-FniNoPqg"
   },
   "outputs": [],
   "source": [
    "_model_conf = {\n",
    "    \n",
    "}"
   ]
  },
  {
   "cell_type": "code",
   "execution_count": 5,
   "metadata": {
    "executionInfo": {
     "elapsed": 19,
     "status": "ok",
     "timestamp": 1663292682685,
     "user": {
      "displayName": "Anish Shah",
      "userId": "05913492621931233323"
     },
     "user_tz": -120
    },
    "id": "9G0qvtc5Kowu"
   },
   "outputs": [],
   "source": [
    "project_name = \"gpt2-netflix\"\n",
    "run_name = \"quantize_and_serialize_gpt2_onnx\"\n",
    "run_type = \"productionize\""
   ]
  },
  {
   "cell_type": "code",
   "execution_count": 6,
   "metadata": {
    "colab": {
     "base_uri": "https://localhost:8080/",
     "height": 65
    },
    "executionInfo": {
     "elapsed": 2389,
     "status": "ok",
     "timestamp": 1663292685056,
     "user": {
      "displayName": "Anish Shah",
      "userId": "05913492621931233323"
     },
     "user_tz": -120
    },
    "id": "J8sjy_mTKh6e",
    "outputId": "9b384ed9-3301-468a-9689-c3f84c991b9a"
   },
   "outputs": [
    {
     "data": {
      "text/html": [
       "Tracking run with wandb version 0.13.3"
      ],
      "text/plain": [
       "<IPython.core.display.HTML object>"
      ]
     },
     "metadata": {},
     "output_type": "display_data"
    },
    {
     "data": {
      "text/html": [
       "Run data is saved locally in <code>/content/wandb/run-20220916_014442-3hhvfy5g</code>"
      ],
      "text/plain": [
       "<IPython.core.display.HTML object>"
      ]
     },
     "metadata": {},
     "output_type": "display_data"
    },
    {
     "data": {
      "text/html": [
       "Syncing run <strong><a href=\"https://wandb.ai/a-sh0ts/gpt2-netflix/runs/3hhvfy5g\" target=\"_blank\">quantize_and_serialize_gpt2_onnx</a></strong> to <a href=\"https://wandb.ai/a-sh0ts/gpt2-netflix\" target=\"_blank\">Weights & Biases</a> (<a href=\"https://wandb.me/run\" target=\"_blank\">docs</a>)<br/>"
      ],
      "text/plain": [
       "<IPython.core.display.HTML object>"
      ]
     },
     "metadata": {},
     "output_type": "display_data"
    }
   ],
   "source": [
    "run = wandb.init(\n",
    "        project=project_name, job_type=run_type, name=run_name, config = _model_conf)"
   ]
  },
  {
   "cell_type": "code",
   "execution_count": 7,
   "metadata": {
    "colab": {
     "base_uri": "https://localhost:8080/"
    },
    "executionInfo": {
     "elapsed": 20465,
     "status": "ok",
     "timestamp": 1663292708086,
     "user": {
      "displayName": "Anish Shah",
      "userId": "05913492621931233323"
     },
     "user_tz": -120
    },
    "id": "-cCGiOu4h5KI",
    "outputId": "1f7b8a83-11f9-4edb-cecf-cea7a374f1f6"
   },
   "outputs": [
    {
     "name": "stderr",
     "output_type": "stream",
     "text": [
      "\u001b[34m\u001b[1mwandb\u001b[0m: Downloading large artifact gpt2-netflix-hf:latest, 1379.04MB. 7 files... Done. 0:0:19.5\n"
     ]
    }
   ],
   "source": [
    "model_checkpoint = run.use_artifact(\"gpt2-netflix-hf:latest\").download()"
   ]
  },
  {
   "cell_type": "code",
   "execution_count": 8,
   "metadata": {
    "colab": {
     "base_uri": "https://localhost:8080/",
     "height": 332,
     "referenced_widgets": [
      "b468b2b31397465bbda5c37eb7f75415",
      "645cfe1880b745739761e5dbbe45de54",
      "f7aafac57893427f838a897410605d9a",
      "b1cd2dc9c89c44a49a542cfadcfe457b",
      "455b0dde2e864925b039480c614d1e0d",
      "8416e7f89e3c4b3ba85a07d861d13117",
      "08e1223ed0404e32ad8f6350e6ba8fc4",
      "690966fe31894c5a8b1c32518bd3ab80",
      "c4553db80a7d4b3c95a39bef8e99de58",
      "12a880beae5242a2968e53585f6c3349",
      "d6668de9494844ff8b667a28250370c9"
     ]
    },
    "executionInfo": {
     "elapsed": 74709,
     "status": "ok",
     "timestamp": 1663292782762,
     "user": {
      "displayName": "Anish Shah",
      "userId": "05913492621931233323"
     },
     "user_tz": -120
    },
    "id": "KBRcLN_HrC5n",
    "outputId": "134655da-a1d2-4725-fc82-66cc13975229"
   },
   "outputs": [
    {
     "name": "stderr",
     "output_type": "stream",
     "text": [
      "The cache for model files in Transformers v4.22.0 has been updated. Migrating your old cache. This is a one-time only operation. You can interrupt this and resume the migration later on by calling `transformers.utils.move_cache()`.\n"
     ]
    },
    {
     "name": "stdout",
     "output_type": "stream",
     "text": [
      "Moving 0 files to the new cache system\n"
     ]
    },
    {
     "data": {
      "application/vnd.jupyter.widget-view+json": {
       "model_id": "b468b2b31397465bbda5c37eb7f75415",
       "version_major": 2,
       "version_minor": 0
      },
      "text/plain": [
       "0it [00:00, ?it/s]"
      ]
     },
     "metadata": {},
     "output_type": "display_data"
    },
    {
     "name": "stderr",
     "output_type": "stream",
     "text": [
      "/usr/local/lib/python3.7/dist-packages/transformers/models/gpt2/modeling_gpt2.py:813: TracerWarning: Converting a tensor to a Python boolean might cause the trace to be incorrect. We can't record the data flow of Python values, so this value will be treated as a constant in the future. This means that the trace might not generalize to other inputs!\n",
      "  if batch_size <= 0:\n",
      "/usr/local/lib/python3.7/dist-packages/transformers/models/gpt2/modeling_gpt2.py:198: TracerWarning: torch.tensor results are registered as constants in the trace. You can safely ignore this warning if you use this function to create tensors out of constant variables that would be the same every time you call this function. In any other case, this might cause the trace to be incorrect.\n",
      "  value.size(-1) ** 0.5, dtype=attn_weights.dtype, device=attn_weights.device\n",
      "/usr/local/lib/python3.7/dist-packages/transformers/models/gpt2/modeling_gpt2.py:198: UserWarning: To copy construct from a tensor, it is recommended to use sourceTensor.clone().detach() or sourceTensor.clone().detach().requires_grad_(True), rather than torch.tensor(sourceTensor).\n",
      "  value.size(-1) ** 0.5, dtype=attn_weights.dtype, device=attn_weights.device\n",
      "/usr/local/lib/python3.7/dist-packages/transformers/models/gpt2/modeling_gpt2.py:212: TracerWarning: torch.tensor results are registered as constants in the trace. You can safely ignore this warning if you use this function to create tensors out of constant variables that would be the same every time you call this function. In any other case, this might cause the trace to be incorrect.\n",
      "  mask_value = torch.tensor(mask_value, dtype=attn_weights.dtype).to(attn_weights.device)\n"
     ]
    },
    {
     "data": {
      "text/plain": [
       "('onnx/common/tokenizer/tokenizer_config.json',\n",
       " 'onnx/common/tokenizer/special_tokens_map.json',\n",
       " 'onnx/common/tokenizer/vocab.json',\n",
       " 'onnx/common/tokenizer/merges.txt',\n",
       " 'onnx/common/tokenizer/added_tokens.json',\n",
       " 'onnx/common/tokenizer/tokenizer.json')"
      ]
     },
     "execution_count": 8,
     "metadata": {},
     "output_type": "execute_result"
    }
   ],
   "source": [
    "import os\n",
    "from optimum.onnxruntime import ORTModelForCausalLM\n",
    "from transformers import AutoTokenizer\n",
    "\n",
    "model_save_directory = os.path.join(\"onnx\", \"original\")\n",
    "model_file_name = \"model.onnx\"\n",
    "common_save_directory = os.path.join(\"onnx\", \"common\")\n",
    "tokenizer_save_directory = os.path.join(common_save_directory, \"tokenizer\")\n",
    "\n",
    "# Load a model from transformers and export it through the ONNX format\n",
    "model = ORTModelForCausalLM.from_pretrained(model_checkpoint, from_transformers=True)\n",
    "tokenizer = AutoTokenizer.from_pretrained(model_checkpoint)\n",
    "\n",
    "# Save the onnx model and tokenizer\n",
    "model.save_pretrained(model_save_directory, file_name=model_file_name)\n",
    "tokenizer.save_pretrained(tokenizer_save_directory)"
   ]
  },
  {
   "cell_type": "code",
   "execution_count": 9,
   "metadata": {
    "colab": {
     "base_uri": "https://localhost:8080/"
    },
    "executionInfo": {
     "elapsed": 63213,
     "status": "ok",
     "timestamp": 1663292845957,
     "user": {
      "displayName": "Anish Shah",
      "userId": "05913492621931233323"
     },
     "user_tz": -120
    },
    "id": "PAaGYguQtESw",
    "outputId": "9bb35ada-4aca-4303-91a3-9d488514c341"
   },
   "outputs": [
    {
     "data": {
      "text/plain": [
       "PosixPath('onnx/quantized')"
      ]
     },
     "execution_count": 9,
     "metadata": {},
     "output_type": "execute_result"
    }
   ],
   "source": [
    "from optimum.onnxruntime.configuration import AutoQuantizationConfig\n",
    "from optimum.onnxruntime import ORTQuantizer\n",
    "\n",
    "quantized_save_directory = os.path.join(\"onnx\", \"quantized\")\n",
    "\n",
    "# Define the quantization methodology\n",
    "qconfig = AutoQuantizationConfig.arm64(is_static=False, per_channel=False)\n",
    "quantizer = ORTQuantizer.from_pretrained(model)\n",
    "\n",
    "# Apply dynamic quantization on the model\n",
    "quantizer.quantize(\n",
    "    save_dir=quantized_save_directory,\n",
    "    quantization_config=qconfig,\n",
    ")"
   ]
  },
  {
   "cell_type": "markdown",
   "metadata": {
    "id": "g2k1jGJ00xUa"
   },
   "source": [
    "Save Model to GCS"
   ]
  },
  {
   "cell_type": "code",
   "execution_count": 10,
   "metadata": {
    "executionInfo": {
     "elapsed": 763,
     "status": "ok",
     "timestamp": 1663292846939,
     "user": {
      "displayName": "Anish Shah",
      "userId": "05913492621931233323"
     },
     "user_tz": -120
    },
    "id": "x-L2dbRA9h8S"
   },
   "outputs": [],
   "source": [
    "#workaround for seldon"
   ]
  },
  {
   "cell_type": "code",
   "execution_count": 11,
   "metadata": {
    "colab": {
     "base_uri": "https://localhost:8080/"
    },
    "executionInfo": {
     "elapsed": 16169,
     "status": "ok",
     "timestamp": 1663292988208,
     "user": {
      "displayName": "Anish Shah",
      "userId": "05913492621931233323"
     },
     "user_tz": -120
    },
    "id": "Hh_tLaBIzVU4",
    "outputId": "5c679c48-a4dd-4c72-dca7-19a1d5a49204"
   },
   "outputs": [
    {
     "name": "stdout",
     "output_type": "stream",
     "text": [
      "Updated property [core/project].\n"
     ]
    }
   ],
   "source": [
    "from google.colab import auth\n",
    "auth.authenticate_user()\n",
    "\n",
    "# https://cloud.google.com/resource-manager/docs/creating-managing-projects\n",
    "project_id = 'wandb-growth'\n",
    "!gcloud config set project {project_id}"
   ]
  },
  {
   "cell_type": "code",
   "execution_count": 12,
   "metadata": {
    "colab": {
     "base_uri": "https://localhost:8080/"
    },
    "executionInfo": {
     "elapsed": 6999,
     "status": "ok",
     "timestamp": 1663292996132,
     "user": {
      "displayName": "Anish Shah",
      "userId": "05913492621931233323"
     },
     "user_tz": -120
    },
    "id": "MV9rgXOg04J9",
    "outputId": "2f3dcca0-83e9-4893-b3b4-902914d35c12"
   },
   "outputs": [
    {
     "name": "stdout",
     "output_type": "stream",
     "text": [
      "Creating gs://trained-gpt2-netflix-d91f9f82-3561-11ed-9e10-0242ac1c0002/...\n"
     ]
    }
   ],
   "source": [
    "import uuid\n",
    "\n",
    "# Make a unique bucket to which we'll upload the file.\n",
    "# (GCS buckets are part of a single global namespace.)\n",
    "bucket_name = 'trained-gpt2-netflix-' + str(uuid.uuid1())\n",
    "\n",
    "# Full reference: https://cloud.google.com/storage/docs/gsutil/commands/mb\n",
    "!gsutil mb gs://{bucket_name}"
   ]
  },
  {
   "cell_type": "code",
   "execution_count": 13,
   "metadata": {
    "colab": {
     "base_uri": "https://localhost:8080/"
    },
    "executionInfo": {
     "elapsed": 25035,
     "status": "ok",
     "timestamp": 1663293021149,
     "user": {
      "displayName": "Anish Shah",
      "userId": "05913492621931233323"
     },
     "user_tz": -120
    },
    "id": "bB76e4iM1YVZ",
    "outputId": "c7ad1018-87e5-48e7-c456-f3c4f64c6398"
   },
   "outputs": [
    {
     "name": "stdout",
     "output_type": "stream",
     "text": [
      "Copying file://onnx/quantized/ort_config.json [Content-Type=application/json]...\n",
      "Copying file://onnx/quantized/model_quantized.onnx [Content-Type=application/octet-stream]...\n",
      "==> NOTE: You are uploading one or more large file(s), which would run\n",
      "significantly faster if you enable parallel composite uploads. This\n",
      "feature can be enabled by editing the\n",
      "\"parallel_composite_upload_threshold\" value in your .boto\n",
      "configuration file. However, note that if you do this large files will\n",
      "be uploaded as `composite objects\n",
      "<https://cloud.google.com/storage/docs/composite-objects>`_,which\n",
      "means that any user who downloads such objects will need to have a\n",
      "compiled crcmod installed (see \"gsutil help crcmod\"). This is because\n",
      "without a compiled crcmod, computing checksums on composite objects is\n",
      "so slow that gsutil disables downloads of composite objects.\n",
      "\n",
      "Copying file://onnx/common/tokenizer/tokenizer_config.json [Content-Type=application/json]...\n",
      "Copying file://onnx/common/tokenizer/vocab.json [Content-Type=application/json]...\n",
      "- [4 files][541.2 MiB/541.2 MiB]                                                \n",
      "==> NOTE: You are performing a sequence of gsutil operations that may\n",
      "run significantly faster if you instead use gsutil -m cp ... Please\n",
      "see the -m section under \"gsutil help options\" for further information\n",
      "about when gsutil -m can be advantageous.\n",
      "\n",
      "Copying file://onnx/common/tokenizer/tokenizer.json [Content-Type=application/json]...\n",
      "Copying file://onnx/common/tokenizer/merges.txt [Content-Type=text/plain]...\n",
      "Copying file://onnx/common/tokenizer/special_tokens_map.json [Content-Type=application/json]...\n",
      "Copying file://onnx/common/tokenizer/added_tokens.json [Content-Type=application/json]...\n",
      "Copying file://onnx/original/model.onnx [Content-Type=application/octet-stream]...\n",
      "Copying file://onnx/original/config.json [Content-Type=application/json]...\n",
      "|\n",
      "Operation completed over 10 objects/2.0 GiB.                                     \n"
     ]
    }
   ],
   "source": [
    "# Copy the file to our new bucket.\n",
    "# Full reference: https://cloud.google.com/storage/docs/gsutil/commands/cp\n",
    "!gsutil cp -r onnx gs://{bucket_name}/"
   ]
  },
  {
   "cell_type": "markdown",
   "metadata": {
    "id": "r7MbtB-U1sO-"
   },
   "source": [
    "Save reference to artifact and move to model registry"
   ]
  },
  {
   "cell_type": "markdown",
   "metadata": {
    "id": "eY72w0jR7XQ_"
   },
   "source": [
    "Tokenizer"
   ]
  },
  {
   "cell_type": "code",
   "execution_count": 14,
   "metadata": {
    "executionInfo": {
     "elapsed": 1353,
     "status": "ok",
     "timestamp": 1663293035360,
     "user": {
      "displayName": "Anish Shah",
      "userId": "05913492621931233323"
     },
     "user_tz": -120
    },
    "id": "tCB0VdWD7YYA"
   },
   "outputs": [],
   "source": [
    "tokenizer_artifact_name = \"gpt2-netflix-tokenizer\"\n",
    "tokenizer_artifact_type = \"model-assets\"\n",
    "tokenizer_artifact_description = \"GPT2 tokenizer for model finetuned on Netflix data\""
   ]
  },
  {
   "cell_type": "code",
   "execution_count": 15,
   "metadata": {
    "executionInfo": {
     "elapsed": 1088,
     "status": "ok",
     "timestamp": 1663293037262,
     "user": {
      "displayName": "Anish Shah",
      "userId": "05913492621931233323"
     },
     "user_tz": -120
    },
    "id": "2QZ9V3IP8wYl"
   },
   "outputs": [],
   "source": [
    "tokenizer_model_artifact = wandb.Artifact(name=tokenizer_artifact_name, type=tokenizer_artifact_type, description=tokenizer_artifact_description)"
   ]
  },
  {
   "cell_type": "code",
   "execution_count": 16,
   "metadata": {
    "colab": {
     "base_uri": "https://localhost:8080/"
    },
    "executionInfo": {
     "elapsed": 1261,
     "status": "ok",
     "timestamp": 1663293038512,
     "user": {
      "displayName": "Anish Shah",
      "userId": "05913492621931233323"
     },
     "user_tz": -120
    },
    "id": "4LeX1-un9C7X",
    "outputId": "79f40fa1-b1d9-4032-db83-8177d90e4677"
   },
   "outputs": [
    {
     "name": "stderr",
     "output_type": "stream",
     "text": [
      "\u001b[34m\u001b[1mwandb\u001b[0m: Adding directory to artifact (./onnx/common/tokenizer)... Done. 0.1s\n"
     ]
    }
   ],
   "source": [
    "tokenizer_model_artifact.add_dir(\"onnx/common/tokenizer\")"
   ]
  },
  {
   "cell_type": "code",
   "execution_count": 17,
   "metadata": {
    "colab": {
     "base_uri": "https://localhost:8080/"
    },
    "executionInfo": {
     "elapsed": 2162,
     "status": "ok",
     "timestamp": 1663293042166,
     "user": {
      "displayName": "Anish Shah",
      "userId": "05913492621931233323"
     },
     "user_tz": -120
    },
    "id": "qexf7VES9Jln",
    "outputId": "829634b8-3b02-4364-ec0a-c7358ed0216f"
   },
   "outputs": [
    {
     "data": {
      "text/plain": [
       "<wandb.sdk.wandb_artifacts.Artifact at 0x7f16c5092c10>"
      ]
     },
     "execution_count": 17,
     "metadata": {},
     "output_type": "execute_result"
    }
   ],
   "source": [
    "run.log_artifact(tokenizer_model_artifact)"
   ]
  },
  {
   "cell_type": "markdown",
   "metadata": {
    "id": "U2M5NsVW6CR7"
   },
   "source": [
    "Orginal onnx"
   ]
  },
  {
   "cell_type": "code",
   "execution_count": 18,
   "metadata": {
    "executionInfo": {
     "elapsed": 1152,
     "status": "ok",
     "timestamp": 1663293044318,
     "user": {
      "displayName": "Anish Shah",
      "userId": "05913492621931233323"
     },
     "user_tz": -120
    },
    "id": "wvUde6842UGH"
   },
   "outputs": [],
   "source": [
    "onnx_artifact_name = \"gpt2-netflix-onnx\"\n",
    "onnx_artifact_type = \"model\"\n",
    "onnx_artifact_description = \"GPT2 model finetuned as per this article: https://www.kaggle.com/code/nulldata/fine-tuning-gpt-2-to-generate-netlfix-descriptions/notebook exported to ONNX\""
   ]
  },
  {
   "cell_type": "code",
   "execution_count": 19,
   "metadata": {
    "executionInfo": {
     "elapsed": 1200,
     "status": "ok",
     "timestamp": 1663293045511,
     "user": {
      "displayName": "Anish Shah",
      "userId": "05913492621931233323"
     },
     "user_tz": -120
    },
    "id": "69u7XOP21eo4"
   },
   "outputs": [],
   "source": [
    "onnx_model_artifact = wandb.Artifact(name=onnx_artifact_name, type=onnx_artifact_type, description=onnx_artifact_description)"
   ]
  },
  {
   "cell_type": "code",
   "execution_count": 20,
   "metadata": {
    "colab": {
     "base_uri": "https://localhost:8080/"
    },
    "executionInfo": {
     "elapsed": 1536,
     "status": "ok",
     "timestamp": 1663293047933,
     "user": {
      "displayName": "Anish Shah",
      "userId": "05913492621931233323"
     },
     "user_tz": -120
    },
    "id": "1hybMByn4HoM",
    "outputId": "7aa2c6b8-9708-432a-87b9-3396bfdb31b1"
   },
   "outputs": [
    {
     "name": "stderr",
     "output_type": "stream",
     "text": [
      "\u001b[34m\u001b[1mwandb\u001b[0m: Generating checksum for up to 10000 objects with prefix \"onnx/original\"... Done. 0.1s\n"
     ]
    },
    {
     "data": {
      "text/plain": [
       "[<ManifestEntry ref: gs://trained-gpt2-netflix-d91f9f82-3561-11ed-9e10-0242ac1c0002/onnx/original/config.json/config.json>,\n",
       " <ManifestEntry ref: gs://trained-gpt2-netflix-d91f9f82-3561-11ed-9e10-0242ac1c0002/onnx/original/model.onnx/model.onnx>]"
      ]
     },
     "execution_count": 20,
     "metadata": {},
     "output_type": "execute_result"
    }
   ],
   "source": [
    "#workaround for seldon\n",
    "onnx_model_artifact.add_reference(f\"gs://{bucket_name}/onnx/original\")"
   ]
  },
  {
   "cell_type": "code",
   "execution_count": 21,
   "metadata": {
    "executionInfo": {
     "elapsed": 1691,
     "status": "ok",
     "timestamp": 1663293063097,
     "user": {
      "displayName": "Anish Shah",
      "userId": "05913492621931233323"
     },
     "user_tz": -120
    },
    "id": "Vmp02jON4zO5"
   },
   "outputs": [],
   "source": [
    "onnx_model_artifact.metadata.update({\"modelURI\": f\"gs://{bucket_name}/onnx/original/model.onnx\"})"
   ]
  },
  {
   "cell_type": "code",
   "execution_count": 22,
   "metadata": {
    "colab": {
     "base_uri": "https://localhost:8080/"
    },
    "executionInfo": {
     "elapsed": 1549,
     "status": "ok",
     "timestamp": 1663293066455,
     "user": {
      "displayName": "Anish Shah",
      "userId": "05913492621931233323"
     },
     "user_tz": -120
    },
    "id": "n_o3XRHx20ch",
    "outputId": "8537dd77-c4df-4dc5-ba4c-3f6d57a06bd5"
   },
   "outputs": [
    {
     "data": {
      "text/plain": [
       "<wandb.sdk.wandb_artifacts.Artifact at 0x7f16ba451050>"
      ]
     },
     "execution_count": 22,
     "metadata": {},
     "output_type": "execute_result"
    }
   ],
   "source": [
    "run.log_artifact(onnx_model_artifact)"
   ]
  },
  {
   "cell_type": "markdown",
   "metadata": {
    "id": "1VZfb1ZP73J1"
   },
   "source": [
    "Quantized onnx"
   ]
  },
  {
   "cell_type": "code",
   "execution_count": 23,
   "metadata": {
    "executionInfo": {
     "elapsed": 1061,
     "status": "ok",
     "timestamp": 1663293068261,
     "user": {
      "displayName": "Anish Shah",
      "userId": "05913492621931233323"
     },
     "user_tz": -120
    },
    "id": "LDKm7bGn7zxq"
   },
   "outputs": [],
   "source": [
    "quantized_onnx_artifact_name = \"gpt2-netflix-onnx-quantized\"\n",
    "quantized_onnx_artifact_type = \"model\"\n",
    "quantized_onnx_artifact_description = \"GPT2 model finetuned as per this article: https://www.kaggle.com/code/nulldata/fine-tuning-gpt-2-to-generate-netlfix-descriptions/notebook exported to ONNX and quantized\""
   ]
  },
  {
   "cell_type": "code",
   "execution_count": 24,
   "metadata": {
    "executionInfo": {
     "elapsed": 1218,
     "status": "ok",
     "timestamp": 1663293070937,
     "user": {
      "displayName": "Anish Shah",
      "userId": "05913492621931233323"
     },
     "user_tz": -120
    },
    "id": "Gp3xJp5a8Flx"
   },
   "outputs": [],
   "source": [
    "quantized_onnx_model_artifact = wandb.Artifact(name=quantized_onnx_artifact_name, type=quantized_onnx_artifact_type, description=quantized_onnx_artifact_description)"
   ]
  },
  {
   "cell_type": "code",
   "execution_count": 25,
   "metadata": {
    "colab": {
     "base_uri": "https://localhost:8080/"
    },
    "executionInfo": {
     "elapsed": 1544,
     "status": "ok",
     "timestamp": 1663293075764,
     "user": {
      "displayName": "Anish Shah",
      "userId": "05913492621931233323"
     },
     "user_tz": -120
    },
    "id": "fsIzw4oP8GxB",
    "outputId": "e63123b6-d37d-4108-ee01-2156137f9eda"
   },
   "outputs": [
    {
     "name": "stderr",
     "output_type": "stream",
     "text": [
      "\u001b[34m\u001b[1mwandb\u001b[0m: Generating checksum for up to 10000 objects with prefix \"onnx/quantized\"... Done. 0.1s\n"
     ]
    },
    {
     "data": {
      "text/plain": [
       "[<ManifestEntry ref: gs://trained-gpt2-netflix-d91f9f82-3561-11ed-9e10-0242ac1c0002/onnx/quantized/model_quantized.onnx/model_quantized.onnx>,\n",
       " <ManifestEntry ref: gs://trained-gpt2-netflix-d91f9f82-3561-11ed-9e10-0242ac1c0002/onnx/quantized/ort_config.json/ort_config.json>]"
      ]
     },
     "execution_count": 25,
     "metadata": {},
     "output_type": "execute_result"
    }
   ],
   "source": [
    "#workaround for seldon\n",
    "quantized_onnx_model_artifact.add_reference(f\"gs://{bucket_name}/onnx/quantized\")"
   ]
  },
  {
   "cell_type": "code",
   "execution_count": 26,
   "metadata": {
    "executionInfo": {
     "elapsed": 1350,
     "status": "ok",
     "timestamp": 1663293082143,
     "user": {
      "displayName": "Anish Shah",
      "userId": "05913492621931233323"
     },
     "user_tz": -120
    },
    "id": "MldCr3UY8HLl"
   },
   "outputs": [],
   "source": [
    "quantized_onnx_model_artifact.metadata.update({\"modelURI\": f\"gs://{bucket_name}/onnx/quantized/model_quantized.onnx\"})"
   ]
  },
  {
   "cell_type": "code",
   "execution_count": 27,
   "metadata": {
    "colab": {
     "base_uri": "https://localhost:8080/"
    },
    "executionInfo": {
     "elapsed": 1336,
     "status": "ok",
     "timestamp": 1663293084656,
     "user": {
      "displayName": "Anish Shah",
      "userId": "05913492621931233323"
     },
     "user_tz": -120
    },
    "id": "0Q2YWtMV8I2X",
    "outputId": "18eb3ba9-9a11-44b8-fdc4-7edb6d7651b6"
   },
   "outputs": [
    {
     "data": {
      "text/plain": [
       "<wandb.sdk.wandb_artifacts.Artifact at 0x7f16ba546f50>"
      ]
     },
     "execution_count": 27,
     "metadata": {},
     "output_type": "execute_result"
    }
   ],
   "source": [
    "run.log_artifact(quantized_onnx_model_artifact)"
   ]
  },
  {
   "cell_type": "code",
   "execution_count": 28,
   "metadata": {
    "colab": {
     "base_uri": "https://localhost:8080/",
     "height": 82,
     "referenced_widgets": [
      "ae36b36be2a0488c8ae08f80070295b8",
      "5970ba5c626147fea696b00f3b5b0175",
      "a34c95981dff45f4a227f8195e4b7689",
      "1b4b1fd1c35746b9a9e5924d10055cfc",
      "ef52e18487524f5fbb06e45cf3c473a9",
      "4daaf2079da747fcb2fc89a487adf1d6",
      "32ba137c0afc46e49f0e8113549776c0",
      "ecd0dba7b3ee4d5b8421fa32a4cf666b"
     ]
    },
    "executionInfo": {
     "elapsed": 6337,
     "status": "ok",
     "timestamp": 1663293091250,
     "user": {
      "displayName": "Anish Shah",
      "userId": "05913492621931233323"
     },
     "user_tz": -120
    },
    "id": "lnl16ePJ51Oq",
    "outputId": "a081954c-e17e-4f15-b0a3-684cb028b853"
   },
   "outputs": [
    {
     "data": {
      "text/html": [
       "Waiting for W&B process to finish... <strong style=\"color:green\">(success).</strong>"
      ],
      "text/plain": [
       "<IPython.core.display.HTML object>"
      ]
     },
     "metadata": {},
     "output_type": "display_data"
    },
    {
     "data": {
      "application/vnd.jupyter.widget-view+json": {
       "model_id": "ae36b36be2a0488c8ae08f80070295b8",
       "version_major": 2,
       "version_minor": 0
      },
      "text/plain": [
       "VBox(children=(Label(value='3.862 MB of 3.862 MB uploaded (0.000 MB deduped)\\r'), FloatProgress(value=1.0, max…"
      ]
     },
     "metadata": {},
     "output_type": "display_data"
    },
    {
     "data": {
      "text/html": [
       "Synced <strong style=\"color:#cdcd00\">quantize_and_serialize_gpt2_onnx</strong>: <a href=\"https://wandb.ai/a-sh0ts/gpt2-netflix/runs/3hhvfy5g\" target=\"_blank\">https://wandb.ai/a-sh0ts/gpt2-netflix/runs/3hhvfy5g</a><br/>Synced 5 W&B file(s), 0 media file(s), 30 artifact file(s) and 1 other file(s)"
      ],
      "text/plain": [
       "<IPython.core.display.HTML object>"
      ]
     },
     "metadata": {},
     "output_type": "display_data"
    },
    {
     "data": {
      "text/html": [
       "Find logs at: <code>./wandb/run-20220916_014442-3hhvfy5g/logs</code>"
      ],
      "text/plain": [
       "<IPython.core.display.HTML object>"
      ]
     },
     "metadata": {},
     "output_type": "display_data"
    }
   ],
   "source": [
    "run.finish()"
   ]
  },
  {
   "cell_type": "markdown",
   "metadata": {
    "id": "fMm8Oh0x5zTi"
   },
   "source": [
    "Promote model to registry\n",
    "We will be forcing the quantized one to be the selected registered model"
   ]
  },
  {
   "cell_type": "code",
   "execution_count": 29,
   "metadata": {
    "executionInfo": {
     "elapsed": 5,
     "status": "ok",
     "timestamp": 1663293091250,
     "user": {
      "displayName": "Anish Shah",
      "userId": "05913492621931233323"
     },
     "user_tz": -120
    },
    "id": "jhv8Rr3m33fh"
   },
   "outputs": [],
   "source": [
    "wandb_entity = \"a-sh0ts\"\n",
    "collection_name = \"generative-netflix\""
   ]
  },
  {
   "cell_type": "code",
   "execution_count": 30,
   "metadata": {
    "executionInfo": {
     "elapsed": 352,
     "status": "ok",
     "timestamp": 1663293091961,
     "user": {
      "displayName": "Anish Shah",
      "userId": "05913492621931233323"
     },
     "user_tz": -120
    },
    "id": "maQUDoj76MBY"
   },
   "outputs": [],
   "source": [
    "retrieved_model_art = wandb.Api().artifact(f\"{wandb_entity}/{project_name}/{quantized_onnx_artifact_name}:latest\")"
   ]
  },
  {
   "cell_type": "code",
   "execution_count": 33,
   "metadata": {
    "colab": {
     "base_uri": "https://localhost:8080/"
    },
    "executionInfo": {
     "elapsed": 265,
     "status": "ok",
     "timestamp": 1663293248788,
     "user": {
      "displayName": "Anish Shah",
      "userId": "05913492621931233323"
     },
     "user_tz": -120
    },
    "id": "FKF_mWF939cf",
    "outputId": "679bf380-9b22-47f6-e3ff-dc350fe97b68"
   },
   "outputs": [
    {
     "data": {
      "text/plain": [
       "True"
      ]
     },
     "execution_count": 33,
     "metadata": {},
     "output_type": "execute_result"
    }
   ],
   "source": [
    "retrieved_model_art.link(f\"{wandb_entity}/{project_name}/{collection_name}\")"
   ]
  }
 ],
 "metadata": {
  "accelerator": "GPU",
  "colab": {
   "authorship_tag": "ABX9TyMyS3T2HuYtAuJ2Q8lZlEuq",
   "collapsed_sections": [],
   "provenance": [
    {
     "file_id": "1d8u-8Xxr7EexpbMijOzexDVquac1OVjE",
     "timestamp": 1663158733231
    }
   ]
  },
  "environment": {
   "kernel": "python3",
   "name": "common-cu110.m97",
   "type": "gcloud",
   "uri": "gcr.io/deeplearning-platform-release/base-cu110:m97"
  },
  "gpuClass": "standard",
  "kernelspec": {
   "display_name": "Python 3",
   "language": "python",
   "name": "python3"
  },
  "language_info": {
   "codemirror_mode": {
    "name": "ipython",
    "version": 3
   },
   "file_extension": ".py",
   "mimetype": "text/x-python",
   "name": "python",
   "nbconvert_exporter": "python",
   "pygments_lexer": "ipython3",
   "version": "3.7.12"
  },
  "widgets": {
   "application/vnd.jupyter.widget-state+json": {
    "08e1223ed0404e32ad8f6350e6ba8fc4": {
     "model_module": "@jupyter-widgets/controls",
     "model_module_version": "1.5.0",
     "model_name": "DescriptionStyleModel",
     "state": {
      "_model_module": "@jupyter-widgets/controls",
      "_model_module_version": "1.5.0",
      "_model_name": "DescriptionStyleModel",
      "_view_count": null,
      "_view_module": "@jupyter-widgets/base",
      "_view_module_version": "1.2.0",
      "_view_name": "StyleView",
      "description_width": ""
     }
    },
    "12a880beae5242a2968e53585f6c3349": {
     "model_module": "@jupyter-widgets/base",
     "model_module_version": "1.2.0",
     "model_name": "LayoutModel",
     "state": {
      "_model_module": "@jupyter-widgets/base",
      "_model_module_version": "1.2.0",
      "_model_name": "LayoutModel",
      "_view_count": null,
      "_view_module": "@jupyter-widgets/base",
      "_view_module_version": "1.2.0",
      "_view_name": "LayoutView",
      "align_content": null,
      "align_items": null,
      "align_self": null,
      "border": null,
      "bottom": null,
      "display": null,
      "flex": null,
      "flex_flow": null,
      "grid_area": null,
      "grid_auto_columns": null,
      "grid_auto_flow": null,
      "grid_auto_rows": null,
      "grid_column": null,
      "grid_gap": null,
      "grid_row": null,
      "grid_template_areas": null,
      "grid_template_columns": null,
      "grid_template_rows": null,
      "height": null,
      "justify_content": null,
      "justify_items": null,
      "left": null,
      "margin": null,
      "max_height": null,
      "max_width": null,
      "min_height": null,
      "min_width": null,
      "object_fit": null,
      "object_position": null,
      "order": null,
      "overflow": null,
      "overflow_x": null,
      "overflow_y": null,
      "padding": null,
      "right": null,
      "top": null,
      "visibility": null,
      "width": null
     }
    },
    "1b4b1fd1c35746b9a9e5924d10055cfc": {
     "model_module": "@jupyter-widgets/base",
     "model_module_version": "1.2.0",
     "model_name": "LayoutModel",
     "state": {
      "_model_module": "@jupyter-widgets/base",
      "_model_module_version": "1.2.0",
      "_model_name": "LayoutModel",
      "_view_count": null,
      "_view_module": "@jupyter-widgets/base",
      "_view_module_version": "1.2.0",
      "_view_name": "LayoutView",
      "align_content": null,
      "align_items": null,
      "align_self": null,
      "border": null,
      "bottom": null,
      "display": null,
      "flex": null,
      "flex_flow": null,
      "grid_area": null,
      "grid_auto_columns": null,
      "grid_auto_flow": null,
      "grid_auto_rows": null,
      "grid_column": null,
      "grid_gap": null,
      "grid_row": null,
      "grid_template_areas": null,
      "grid_template_columns": null,
      "grid_template_rows": null,
      "height": null,
      "justify_content": null,
      "justify_items": null,
      "left": null,
      "margin": null,
      "max_height": null,
      "max_width": null,
      "min_height": null,
      "min_width": null,
      "object_fit": null,
      "object_position": null,
      "order": null,
      "overflow": null,
      "overflow_x": null,
      "overflow_y": null,
      "padding": null,
      "right": null,
      "top": null,
      "visibility": null,
      "width": null
     }
    },
    "32ba137c0afc46e49f0e8113549776c0": {
     "model_module": "@jupyter-widgets/base",
     "model_module_version": "1.2.0",
     "model_name": "LayoutModel",
     "state": {
      "_model_module": "@jupyter-widgets/base",
      "_model_module_version": "1.2.0",
      "_model_name": "LayoutModel",
      "_view_count": null,
      "_view_module": "@jupyter-widgets/base",
      "_view_module_version": "1.2.0",
      "_view_name": "LayoutView",
      "align_content": null,
      "align_items": null,
      "align_self": null,
      "border": null,
      "bottom": null,
      "display": null,
      "flex": null,
      "flex_flow": null,
      "grid_area": null,
      "grid_auto_columns": null,
      "grid_auto_flow": null,
      "grid_auto_rows": null,
      "grid_column": null,
      "grid_gap": null,
      "grid_row": null,
      "grid_template_areas": null,
      "grid_template_columns": null,
      "grid_template_rows": null,
      "height": null,
      "justify_content": null,
      "justify_items": null,
      "left": null,
      "margin": null,
      "max_height": null,
      "max_width": null,
      "min_height": null,
      "min_width": null,
      "object_fit": null,
      "object_position": null,
      "order": null,
      "overflow": null,
      "overflow_x": null,
      "overflow_y": null,
      "padding": null,
      "right": null,
      "top": null,
      "visibility": null,
      "width": null
     }
    },
    "455b0dde2e864925b039480c614d1e0d": {
     "model_module": "@jupyter-widgets/base",
     "model_module_version": "1.2.0",
     "model_name": "LayoutModel",
     "state": {
      "_model_module": "@jupyter-widgets/base",
      "_model_module_version": "1.2.0",
      "_model_name": "LayoutModel",
      "_view_count": null,
      "_view_module": "@jupyter-widgets/base",
      "_view_module_version": "1.2.0",
      "_view_name": "LayoutView",
      "align_content": null,
      "align_items": null,
      "align_self": null,
      "border": null,
      "bottom": null,
      "display": null,
      "flex": null,
      "flex_flow": null,
      "grid_area": null,
      "grid_auto_columns": null,
      "grid_auto_flow": null,
      "grid_auto_rows": null,
      "grid_column": null,
      "grid_gap": null,
      "grid_row": null,
      "grid_template_areas": null,
      "grid_template_columns": null,
      "grid_template_rows": null,
      "height": null,
      "justify_content": null,
      "justify_items": null,
      "left": null,
      "margin": null,
      "max_height": null,
      "max_width": null,
      "min_height": null,
      "min_width": null,
      "object_fit": null,
      "object_position": null,
      "order": null,
      "overflow": null,
      "overflow_x": null,
      "overflow_y": null,
      "padding": null,
      "right": null,
      "top": null,
      "visibility": null,
      "width": null
     }
    },
    "4daaf2079da747fcb2fc89a487adf1d6": {
     "model_module": "@jupyter-widgets/controls",
     "model_module_version": "1.5.0",
     "model_name": "DescriptionStyleModel",
     "state": {
      "_model_module": "@jupyter-widgets/controls",
      "_model_module_version": "1.5.0",
      "_model_name": "DescriptionStyleModel",
      "_view_count": null,
      "_view_module": "@jupyter-widgets/base",
      "_view_module_version": "1.2.0",
      "_view_name": "StyleView",
      "description_width": ""
     }
    },
    "5970ba5c626147fea696b00f3b5b0175": {
     "model_module": "@jupyter-widgets/controls",
     "model_module_version": "1.5.0",
     "model_name": "LabelModel",
     "state": {
      "_dom_classes": [],
      "_model_module": "@jupyter-widgets/controls",
      "_model_module_version": "1.5.0",
      "_model_name": "LabelModel",
      "_view_count": null,
      "_view_module": "@jupyter-widgets/controls",
      "_view_module_version": "1.5.0",
      "_view_name": "LabelView",
      "description": "",
      "description_tooltip": null,
      "layout": "IPY_MODEL_ef52e18487524f5fbb06e45cf3c473a9",
      "placeholder": "​",
      "style": "IPY_MODEL_4daaf2079da747fcb2fc89a487adf1d6",
      "value": "3.888 MB of 3.888 MB uploaded (0.000 MB deduped)\r"
     }
    },
    "645cfe1880b745739761e5dbbe45de54": {
     "model_module": "@jupyter-widgets/controls",
     "model_module_version": "1.5.0",
     "model_name": "HTMLModel",
     "state": {
      "_dom_classes": [],
      "_model_module": "@jupyter-widgets/controls",
      "_model_module_version": "1.5.0",
      "_model_name": "HTMLModel",
      "_view_count": null,
      "_view_module": "@jupyter-widgets/controls",
      "_view_module_version": "1.5.0",
      "_view_name": "HTMLView",
      "description": "",
      "description_tooltip": null,
      "layout": "IPY_MODEL_8416e7f89e3c4b3ba85a07d861d13117",
      "placeholder": "​",
      "style": "IPY_MODEL_08e1223ed0404e32ad8f6350e6ba8fc4",
      "value": ""
     }
    },
    "690966fe31894c5a8b1c32518bd3ab80": {
     "model_module": "@jupyter-widgets/base",
     "model_module_version": "1.2.0",
     "model_name": "LayoutModel",
     "state": {
      "_model_module": "@jupyter-widgets/base",
      "_model_module_version": "1.2.0",
      "_model_name": "LayoutModel",
      "_view_count": null,
      "_view_module": "@jupyter-widgets/base",
      "_view_module_version": "1.2.0",
      "_view_name": "LayoutView",
      "align_content": null,
      "align_items": null,
      "align_self": null,
      "border": null,
      "bottom": null,
      "display": null,
      "flex": null,
      "flex_flow": null,
      "grid_area": null,
      "grid_auto_columns": null,
      "grid_auto_flow": null,
      "grid_auto_rows": null,
      "grid_column": null,
      "grid_gap": null,
      "grid_row": null,
      "grid_template_areas": null,
      "grid_template_columns": null,
      "grid_template_rows": null,
      "height": null,
      "justify_content": null,
      "justify_items": null,
      "left": null,
      "margin": null,
      "max_height": null,
      "max_width": null,
      "min_height": null,
      "min_width": null,
      "object_fit": null,
      "object_position": null,
      "order": null,
      "overflow": null,
      "overflow_x": null,
      "overflow_y": null,
      "padding": null,
      "right": null,
      "top": null,
      "visibility": null,
      "width": "20px"
     }
    },
    "8416e7f89e3c4b3ba85a07d861d13117": {
     "model_module": "@jupyter-widgets/base",
     "model_module_version": "1.2.0",
     "model_name": "LayoutModel",
     "state": {
      "_model_module": "@jupyter-widgets/base",
      "_model_module_version": "1.2.0",
      "_model_name": "LayoutModel",
      "_view_count": null,
      "_view_module": "@jupyter-widgets/base",
      "_view_module_version": "1.2.0",
      "_view_name": "LayoutView",
      "align_content": null,
      "align_items": null,
      "align_self": null,
      "border": null,
      "bottom": null,
      "display": null,
      "flex": null,
      "flex_flow": null,
      "grid_area": null,
      "grid_auto_columns": null,
      "grid_auto_flow": null,
      "grid_auto_rows": null,
      "grid_column": null,
      "grid_gap": null,
      "grid_row": null,
      "grid_template_areas": null,
      "grid_template_columns": null,
      "grid_template_rows": null,
      "height": null,
      "justify_content": null,
      "justify_items": null,
      "left": null,
      "margin": null,
      "max_height": null,
      "max_width": null,
      "min_height": null,
      "min_width": null,
      "object_fit": null,
      "object_position": null,
      "order": null,
      "overflow": null,
      "overflow_x": null,
      "overflow_y": null,
      "padding": null,
      "right": null,
      "top": null,
      "visibility": null,
      "width": null
     }
    },
    "a34c95981dff45f4a227f8195e4b7689": {
     "model_module": "@jupyter-widgets/controls",
     "model_module_version": "1.5.0",
     "model_name": "FloatProgressModel",
     "state": {
      "_dom_classes": [],
      "_model_module": "@jupyter-widgets/controls",
      "_model_module_version": "1.5.0",
      "_model_name": "FloatProgressModel",
      "_view_count": null,
      "_view_module": "@jupyter-widgets/controls",
      "_view_module_version": "1.5.0",
      "_view_name": "ProgressView",
      "bar_style": "",
      "description": "",
      "description_tooltip": null,
      "layout": "IPY_MODEL_32ba137c0afc46e49f0e8113549776c0",
      "max": 1,
      "min": 0,
      "orientation": "horizontal",
      "style": "IPY_MODEL_ecd0dba7b3ee4d5b8421fa32a4cf666b",
      "value": 1
     }
    },
    "ae36b36be2a0488c8ae08f80070295b8": {
     "model_module": "@jupyter-widgets/controls",
     "model_module_version": "1.5.0",
     "model_name": "VBoxModel",
     "state": {
      "_dom_classes": [],
      "_model_module": "@jupyter-widgets/controls",
      "_model_module_version": "1.5.0",
      "_model_name": "VBoxModel",
      "_view_count": null,
      "_view_module": "@jupyter-widgets/controls",
      "_view_module_version": "1.5.0",
      "_view_name": "VBoxView",
      "box_style": "",
      "children": [
       "IPY_MODEL_5970ba5c626147fea696b00f3b5b0175",
       "IPY_MODEL_a34c95981dff45f4a227f8195e4b7689"
      ],
      "layout": "IPY_MODEL_1b4b1fd1c35746b9a9e5924d10055cfc"
     }
    },
    "b1cd2dc9c89c44a49a542cfadcfe457b": {
     "model_module": "@jupyter-widgets/controls",
     "model_module_version": "1.5.0",
     "model_name": "HTMLModel",
     "state": {
      "_dom_classes": [],
      "_model_module": "@jupyter-widgets/controls",
      "_model_module_version": "1.5.0",
      "_model_name": "HTMLModel",
      "_view_count": null,
      "_view_module": "@jupyter-widgets/controls",
      "_view_module_version": "1.5.0",
      "_view_name": "HTMLView",
      "description": "",
      "description_tooltip": null,
      "layout": "IPY_MODEL_12a880beae5242a2968e53585f6c3349",
      "placeholder": "​",
      "style": "IPY_MODEL_d6668de9494844ff8b667a28250370c9",
      "value": " 0/0 [00:00&lt;?, ?it/s]"
     }
    },
    "b468b2b31397465bbda5c37eb7f75415": {
     "model_module": "@jupyter-widgets/controls",
     "model_module_version": "1.5.0",
     "model_name": "HBoxModel",
     "state": {
      "_dom_classes": [],
      "_model_module": "@jupyter-widgets/controls",
      "_model_module_version": "1.5.0",
      "_model_name": "HBoxModel",
      "_view_count": null,
      "_view_module": "@jupyter-widgets/controls",
      "_view_module_version": "1.5.0",
      "_view_name": "HBoxView",
      "box_style": "",
      "children": [
       "IPY_MODEL_645cfe1880b745739761e5dbbe45de54",
       "IPY_MODEL_f7aafac57893427f838a897410605d9a",
       "IPY_MODEL_b1cd2dc9c89c44a49a542cfadcfe457b"
      ],
      "layout": "IPY_MODEL_455b0dde2e864925b039480c614d1e0d"
     }
    },
    "c4553db80a7d4b3c95a39bef8e99de58": {
     "model_module": "@jupyter-widgets/controls",
     "model_module_version": "1.5.0",
     "model_name": "ProgressStyleModel",
     "state": {
      "_model_module": "@jupyter-widgets/controls",
      "_model_module_version": "1.5.0",
      "_model_name": "ProgressStyleModel",
      "_view_count": null,
      "_view_module": "@jupyter-widgets/base",
      "_view_module_version": "1.2.0",
      "_view_name": "StyleView",
      "bar_color": null,
      "description_width": ""
     }
    },
    "d6668de9494844ff8b667a28250370c9": {
     "model_module": "@jupyter-widgets/controls",
     "model_module_version": "1.5.0",
     "model_name": "DescriptionStyleModel",
     "state": {
      "_model_module": "@jupyter-widgets/controls",
      "_model_module_version": "1.5.0",
      "_model_name": "DescriptionStyleModel",
      "_view_count": null,
      "_view_module": "@jupyter-widgets/base",
      "_view_module_version": "1.2.0",
      "_view_name": "StyleView",
      "description_width": ""
     }
    },
    "ecd0dba7b3ee4d5b8421fa32a4cf666b": {
     "model_module": "@jupyter-widgets/controls",
     "model_module_version": "1.5.0",
     "model_name": "ProgressStyleModel",
     "state": {
      "_model_module": "@jupyter-widgets/controls",
      "_model_module_version": "1.5.0",
      "_model_name": "ProgressStyleModel",
      "_view_count": null,
      "_view_module": "@jupyter-widgets/base",
      "_view_module_version": "1.2.0",
      "_view_name": "StyleView",
      "bar_color": null,
      "description_width": ""
     }
    },
    "ef52e18487524f5fbb06e45cf3c473a9": {
     "model_module": "@jupyter-widgets/base",
     "model_module_version": "1.2.0",
     "model_name": "LayoutModel",
     "state": {
      "_model_module": "@jupyter-widgets/base",
      "_model_module_version": "1.2.0",
      "_model_name": "LayoutModel",
      "_view_count": null,
      "_view_module": "@jupyter-widgets/base",
      "_view_module_version": "1.2.0",
      "_view_name": "LayoutView",
      "align_content": null,
      "align_items": null,
      "align_self": null,
      "border": null,
      "bottom": null,
      "display": null,
      "flex": null,
      "flex_flow": null,
      "grid_area": null,
      "grid_auto_columns": null,
      "grid_auto_flow": null,
      "grid_auto_rows": null,
      "grid_column": null,
      "grid_gap": null,
      "grid_row": null,
      "grid_template_areas": null,
      "grid_template_columns": null,
      "grid_template_rows": null,
      "height": null,
      "justify_content": null,
      "justify_items": null,
      "left": null,
      "margin": null,
      "max_height": null,
      "max_width": null,
      "min_height": null,
      "min_width": null,
      "object_fit": null,
      "object_position": null,
      "order": null,
      "overflow": null,
      "overflow_x": null,
      "overflow_y": null,
      "padding": null,
      "right": null,
      "top": null,
      "visibility": null,
      "width": null
     }
    },
    "f7aafac57893427f838a897410605d9a": {
     "model_module": "@jupyter-widgets/controls",
     "model_module_version": "1.5.0",
     "model_name": "FloatProgressModel",
     "state": {
      "_dom_classes": [],
      "_model_module": "@jupyter-widgets/controls",
      "_model_module_version": "1.5.0",
      "_model_name": "FloatProgressModel",
      "_view_count": null,
      "_view_module": "@jupyter-widgets/controls",
      "_view_module_version": "1.5.0",
      "_view_name": "ProgressView",
      "bar_style": "success",
      "description": "",
      "description_tooltip": null,
      "layout": "IPY_MODEL_690966fe31894c5a8b1c32518bd3ab80",
      "max": 1,
      "min": 0,
      "orientation": "horizontal",
      "style": "IPY_MODEL_c4553db80a7d4b3c95a39bef8e99de58",
      "value": 0
     }
    }
   }
  }
 },
 "nbformat": 4,
 "nbformat_minor": 4
}
