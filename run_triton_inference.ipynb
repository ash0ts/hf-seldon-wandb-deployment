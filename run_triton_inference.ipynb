{
 "cells": [
  {
   "cell_type": "code",
   "execution_count": 46,
   "id": "3de26e5b-40d5-4055-99eb-390deb27df51",
   "metadata": {},
   "outputs": [],
   "source": [
    "#  Copyright 2022, Lefebvre Dalloz Services\n",
    "#\n",
    "#  Licensed under the Apache License, Version 2.0 (the \"License\");\n",
    "#  you may not use this file except in compliance with the License.\n",
    "#  You may obtain a copy of the License at\n",
    "#\n",
    "#      http://www.apache.org/licenses/LICENSE-2.0\n",
    "#\n",
    "#  Unless required by applicable law or agreed to in writing, software\n",
    "#  distributed under the License is distributed on an \"AS IS\" BASIS,\n",
    "#  WITHOUT WARRANTIES OR CONDITIONS OF ANY KIND, either express or implied.\n",
    "#  See the License for the specific language governing permissions and\n",
    "#  limitations under the License.\n",
    "\n",
    "import argparse\n",
    "\n",
    "import numpy as np\n",
    "import tritonclient.http\n",
    "\n",
    "from benchmark_utils import print_timings, setup_logging, track_infer_time\n",
    "from tqdm import tqdm"
   ]
  },
  {
   "cell_type": "code",
   "execution_count": 47,
   "id": "0377a60d-b9e6-4c16-a55d-24e9ab0e5ccc",
   "metadata": {},
   "outputs": [],
   "source": [
    "# length = 16\n",
    "model = \"tensorrt\"\n",
    "setup_logging()\n",
    "model_name = f\"transformer_{model}_generate\"\n",
    "url = \"127.0.0.1:8000\"\n",
    "model_version = \"1\"\n",
    "batch_size = 1\n",
    "verbose = False"
   ]
  },
  {
   "cell_type": "code",
   "execution_count": 61,
   "id": "f60c839b-b1a6-4443-acc9-169eaed4a332",
   "metadata": {},
   "outputs": [],
   "source": [
    "text = \"Anish Shah's Documentary is about\""
   ]
  },
  {
   "cell_type": "code",
   "execution_count": 62,
   "id": "b897006e-e451-4bae-ac72-6769456379bd",
   "metadata": {},
   "outputs": [],
   "source": [
    "triton_client = tritonclient.http.InferenceServerClient(url=url, verbose=verbose)\n",
    "assert triton_client.is_model_ready(\n",
    "    model_name=model_name, model_version=model_version\n",
    "), f\"model {model_name} not yet ready\"\n",
    "\n",
    "model_metadata = triton_client.get_model_metadata(model_name=model_name, model_version=model_version)\n",
    "model_config = triton_client.get_model_config(model_name=model_name, model_version=model_version)"
   ]
  },
  {
   "cell_type": "code",
   "execution_count": 63,
   "id": "5dd4dd65-3aeb-4905-8f8c-51b982d1411a",
   "metadata": {},
   "outputs": [],
   "source": [
    "query = tritonclient.http.InferInput(name=\"TEXT\", shape=(batch_size,), datatype=\"BYTES\")\n",
    "model_score = tritonclient.http.InferRequestedOutput(name=\"output\", binary_data=False)"
   ]
  },
  {
   "cell_type": "code",
   "execution_count": 64,
   "id": "c5c16774-b8fc-400d-9751-461739f18072",
   "metadata": {},
   "outputs": [
    {
     "name": "stderr",
     "output_type": "stream",
     "text": [
      "100%|██████████| 100/100 [00:15<00:00,  6.52it/s]\n"
     ]
    }
   ],
   "source": [
    "time_buffer = list()\n",
    "for _ in tqdm(range(100)):\n",
    "    with track_infer_time(time_buffer):\n",
    "        query.set_data_from_numpy(np.asarray([text] * batch_size, dtype=object))\n",
    "        response = triton_client.infer(\n",
    "            model_name=model_name, model_version=model_version, inputs=[query], outputs=[model_score]\n",
    "        )"
   ]
  },
  {
   "cell_type": "code",
   "execution_count": 65,
   "id": "83b358f7-8f21-4313-a2d5-fdb4d6088acb",
   "metadata": {},
   "outputs": [
    {
     "name": "stdout",
     "output_type": "stream",
     "text": [
      "[triton transformers] mean=152.57ms, sd=6.74ms, min=149.44ms, max=216.74ms, median=151.47ms, 95p=155.65ms, 99p=164.53ms\n",
      "Anish Shah's Documentary is about the people, places and things that fascinate him. From the deserts of Arabia to the streets of Mumbai, he explores\n"
     ]
    }
   ],
   "source": [
    "print_timings(name=\"triton transformers\", timings=time_buffer)\n",
    "print(response.as_numpy(\"output\"))"
   ]
  }
 ],
 "metadata": {
  "environment": {
   "kernel": "python3",
   "name": "common-cu110.m97",
   "type": "gcloud",
   "uri": "gcr.io/deeplearning-platform-release/base-cu110:m97"
  },
  "kernelspec": {
   "display_name": "Python 3",
   "language": "python",
   "name": "python3"
  },
  "language_info": {
   "codemirror_mode": {
    "name": "ipython",
    "version": 3
   },
   "file_extension": ".py",
   "mimetype": "text/x-python",
   "name": "python",
   "nbconvert_exporter": "python",
   "pygments_lexer": "ipython3",
   "version": "3.7.12"
  }
 },
 "nbformat": 4,
 "nbformat_minor": 5
}
